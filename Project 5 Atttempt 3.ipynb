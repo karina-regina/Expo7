{
 "cells": [
  {
   "cell_type": "code",
   "execution_count": 47,
   "id": "b61790d6",
   "metadata": {},
   "outputs": [
    {
     "name": "stdout",
     "output_type": "stream",
     "text": [
      "('a', 18, array([0, 0, 0, 0, 0, 0, 1, 1, 1, 1, 1, 1, 2, 2, 2, 2, 2, 2], dtype=int64), 'b', 18, 'c', 18)\n"
     ]
    }
   ],
   "source": [
    "from scipy.ndimage import rotate, shift\n",
    "import numpy as np\n",
    "import matplotlib.pyplot as plt\n",
    "from mpl_toolkits.mplot3d import Axes3D\n",
    "import matplotlib as mpl\n",
    "from sklearn.linear_model import LinearRegression\n",
    "import scipy.stats as sp\n",
    "import pandas as pd\n",
    "import statsmodels.api as sm\n",
    "import math\n",
    "import cmath\n",
    "import seaborn as sns\n",
    "\n",
    "g=np.array([[[3,2,1],[3,2,1],[3,2,1]],[[3,2,1],[3,2,1],[3,2,1]],[[3,2,1],[3,2,1],[3,2,1]]])\n",
    "a,b,c=np.where(g>1)\n",
    "print(('a',len(a),a,'b',len(b),'c',len(c)))"
   ]
  },
  {
   "cell_type": "code",
   "execution_count": 57,
   "id": "8cd545c4",
   "metadata": {},
   "outputs": [],
   "source": [
    "#INPUT\n",
    "stability = 1 #set from 1-6                              \n",
    "\n",
    "measured_x = 63                                                   \n",
    "measured_y = 38                                                         \n",
    "measured_z = 0                                                          \n",
    "\n",
    "stack_x = 34\n",
    "stack_y = 13\n",
    "stack_height = 4       \n",
    "emission_rate = 1                                                                     \n",
    "windspeed=4.7\n",
    "wind_direction=90\n"
   ]
  },
  {
   "cell_type": "code",
   "execution_count": 62,
   "id": "ba44ebf0",
   "metadata": {},
   "outputs": [],
   "source": [
    "#GRID & STEPSIZE CALCULATION \n",
    "\n",
    "stability_str = ['Very unstable', 'Moderately unstable', 'Slightly unstable', 'Neutral', 'Moderately stable', 'Very stable'] # Possibly Useless\n",
    "ssv= stability_str[stability] # Possibly Useless\n",
    "x_range=np.arange(-100,100,2)\n",
    "y_range=np.arange(-100,100,2)\n",
    "z_range=np.arange(0,50,2)\n",
    "X,Y,Z = np.meshgrid(x_range,y_range,z_range)"
   ]
  },
  {
   "cell_type": "code",
   "execution_count": 68,
   "id": "6ecfafda",
   "metadata": {},
   "outputs": [
    {
     "name": "stdout",
     "output_type": "stream",
     "text": [
      "(100, 100, 25) (100, 100, 25)\n",
      "823.841762719031\n",
      "(100, 100, 25)\n"
     ]
    }
   ],
   "source": [
    "#WIND RELATED CALCULATIONS\n",
    "\n",
    "height_slice_direction= math.atan2(measured_y - stack_y, measured_x - stack_x) *(180/(math.pi))\n",
    "x_origin=X-stack_x\n",
    "y_origin=Y-stack_y\n",
    "\n",
    "wind_xcomponent=windspeed*math.sin(math.radians(wind_direction-180))\n",
    "wind_ycomponent=windspeed*math.cos(math.radians(wind_direction-180))\n",
    "\n",
    "#print(wind_xcomponent, wind_ycomponent)\n",
    "\n",
    "dot_product=wind_xcomponent*x_origin+wind_ycomponent*y_origin\n",
    "magnitudes= windspeed*((x_origin**2)+(y_origin**2))**0.5\n",
    "print(np.shape(dot_product), np.shape(magnitudes))\n",
    "ix,iy,iz= np.where(magnitudes==0)\n",
    "magnitudes[ix][iy][iz]=math.pi/2\n",
    "print(magnitudes[0][0][0])\n",
    "subtended=np.arccos(dot_product/magnitudes)\n",
    "hypotenuse=((x_origin**2)+(y_origin**2))**0.5\n",
    "downwind=np.cos(subtended)*hypotenuse\n",
    "downwindimag=np.vectorize(complex)(downwind.real, downwind.imag)\n",
    "print(np.shape(downwind))"
   ]
  },
  {
   "cell_type": "code",
   "execution_count": 64,
   "id": "43bebefa",
   "metadata": {},
   "outputs": [],
   "source": [
    "#PASQUILL CONSTANTS & SIGMA CALCULATION\n",
    "\n",
    "stability_class= {1 : (122.8,0.94470,24.1670,2.5334),\n",
    "                  2: (90.673, 0.93198, 18.3330, 1.8096),\n",
    "                  3: (61.141, 0.91465, 12.5, 1.0857),\n",
    "                  4: (34.459, 0.86974, 8.3330, 0.72382),\n",
    "                  5: (24.26, 0.83660, 6.25, 0.54287),\n",
    "                  6: (15.209, 0.81558, 4.1667, 0.36191)\n",
    "                 }\n",
    "P_a=stability_class[stability][0] \n",
    "P_b=stability_class[stability][1]\n",
    "P_c=stability_class[stability][2]\n",
    "P_d=stability_class[stability][3]\n",
    "\n",
    "sig_z = P_a*(abs((X/1000))**P_b)\n",
    "sig_z[sig_z > 5000] = 5000\n",
    "theta=0.017453293*(P_c-P_d*np.log((downwindimag/1000)))\n",
    "sig_y=(465.11628*downwind/1000)*np.tan(theta)"
   ]
  },
  {
   "cell_type": "code",
   "execution_count": 75,
   "metadata": {},
   "outputs": [
    {
     "name": "stdout",
     "output_type": "stream",
     "text": [
      "(168575,) (168575,) (168575,) (3, 168575)\n"
     ]
    },
    {
     "ename": "MemoryError",
     "evalue": "Unable to allocate 6.28 GiB for an array with shape (168575, 100, 25) and data type complex128",
     "output_type": "error",
     "traceback": [
      "\u001b[1;31m---------------------------------------------------------------------------\u001b[0m",
      "\u001b[1;31mMemoryError\u001b[0m                               Traceback (most recent call last)",
      "\u001b[1;32mc:\\Users\\Karina\\Downloads\\Project 5 Atttempt 2.ipynb Cell 6\u001b[0m line \u001b[0;36m8\n\u001b[0;32m      <a href='vscode-notebook-cell:/c%3A/Users/Karina/Downloads/Project%205%20Atttempt%202.ipynb#W5sZmlsZQ%3D%3D?line=5'>6</a>\u001b[0m \u001b[39mprint\u001b[39m(np\u001b[39m.\u001b[39mshape(indix),np\u001b[39m.\u001b[39mshape(indiy),np\u001b[39m.\u001b[39mshape(indiz),np\u001b[39m.\u001b[39mshape(np\u001b[39m.\u001b[39mwhere(downwind \u001b[39m>\u001b[39m \u001b[39m0\u001b[39m)))\n\u001b[0;32m      <a href='vscode-notebook-cell:/c%3A/Users/Karina/Downloads/Project%205%20Atttempt%202.ipynb#W5sZmlsZQ%3D%3D?line=6'>7</a>\u001b[0m Concentration\u001b[39m=\u001b[39m np\u001b[39m.\u001b[39mzeros(np\u001b[39m.\u001b[39mshape(downwind))\n\u001b[1;32m----> <a href='vscode-notebook-cell:/c%3A/Users/Karina/Downloads/Project%205%20Atttempt%202.ipynb#W5sZmlsZQ%3D%3D?line=7'>8</a>\u001b[0m Concentration[indix][indiy][indiz] \u001b[39m=\u001b[39mnp\u001b[39m.\u001b[39mreal(emission_rate\u001b[39m/\u001b[39m(\u001b[39m2\u001b[39m\u001b[39m*\u001b[39mmath\u001b[39m.\u001b[39mpi\u001b[39m*\u001b[39mwindspeed\u001b[39m*\u001b[39msig_y[indix][indiy][indiz]\u001b[39m*\u001b[39msig_z[indix][indiy][indiz])\u001b[39m*\u001b[39mmath\u001b[39m.\u001b[39me\u001b[39m*\u001b[39m\u001b[39m*\u001b[39m(\u001b[39m-\u001b[39mcrosswind[indix][indiy][indiz]\u001b[39m*\u001b[39m\u001b[39m2\u001b[39m\u001b[39m/\u001b[39m(\u001b[39m2\u001b[39m\u001b[39m*\u001b[39msig_y[indix][indiy][indiz]\u001b[39m*\u001b[39m\u001b[39m2\u001b[39m))\u001b[39m*\u001b[39m (math\u001b[39m.\u001b[39me\u001b[39m*\u001b[39m\u001b[39m*\u001b[39m(\u001b[39m-\u001b[39m(Z[indix][indiy][indiz]\u001b[39m-\u001b[39mstack_height)\u001b[39m*\u001b[39m\u001b[39m*\u001b[39m\u001b[39m2\u001b[39m\u001b[39m/\u001b[39m(\u001b[39m2\u001b[39m\u001b[39m*\u001b[39msig_z[indix][indiy][indiz]\u001b[39m*\u001b[39m\u001b[39m2\u001b[39m))\u001b[39m+\u001b[39m math\u001b[39m.\u001b[39me\u001b[39m*\u001b[39m\u001b[39m*\u001b[39m(\u001b[39m-\u001b[39m(Z[indix][indiy][indiz]\u001b[39m-\u001b[39mstack_height)\u001b[39m*\u001b[39m\u001b[39m*\u001b[39m\u001b[39m2\u001b[39m\u001b[39m/\u001b[39m(\u001b[39m2\u001b[39m\u001b[39m*\u001b[39msig_z[indix][indiy][indiz]\u001b[39m*\u001b[39m\u001b[39m*\u001b[39m\u001b[39m2\u001b[39m))))\n\u001b[0;32m      <a href='vscode-notebook-cell:/c%3A/Users/Karina/Downloads/Project%205%20Atttempt%202.ipynb#W5sZmlsZQ%3D%3D?line=8'>9</a>\u001b[0m \u001b[39m#Concentration =emission_rate/(2*math.pi*windspeed*sig_y[indices]*sig_z[indices])*math.e**(-crosswind[indices]**2/(2*sig_y[indices]**2))* (math.e**(-(-stack_height)**2/(2*sig_z[indices]**2))+ math.e**(-(stack_height)**2/(2*sig_z[indices]**2)) )\u001b[39;00m\n\u001b[0;32m     <a href='vscode-notebook-cell:/c%3A/Users/Karina/Downloads/Project%205%20Atttempt%202.ipynb#W5sZmlsZQ%3D%3D?line=10'>11</a>\u001b[0m Concentration\u001b[39m=\u001b[39mnp\u001b[39m.\u001b[39mreal(Concentration)\n",
      "\u001b[1;31mMemoryError\u001b[0m: Unable to allocate 6.28 GiB for an array with shape (168575, 100, 25) and data type complex128"
     ]
    }
   ],
   "source": [
    "#CROSSWIND AND GAUSSIAN FORMULA\n",
    "\n",
    "crosswind=np.sin(subtended)*hypotenuse\n",
    "indix,indiy,indiz=np.where((downwind > 0))\n",
    "#indix][indiy[indiz]=np.where((Z==0) & (downwind > 0))\n",
    "print(np.shape(indix),np.shape(indiy),np.shape(indiz),np.shape(np.where(downwind > 0)))\n",
    "Concentration= np.zeros(np.shape(downwind))\n",
    "Concentration[indix][indiy][indiz] =np.real(emission_rate/(2*math.pi*windspeed*sig_y[indix][indiy][indiz]*sig_z[indix][indiy][indiz])*math.e**(-crosswind[indix][indiy][indiz]*2/(2*sig_y[indix][indiy][indiz]*2))* (math.e**(-(Z[indix][indiy][indiz]-stack_height)**2/(2*sig_z[indix][indiy][indiz]*2))+ math.e**(-(Z[indix][indiy][indiz]-stack_height)**2/(2*sig_z[indix][indiy][indiz]**2))))\n",
    "#Concentration =emission_rate/(2*math.pi*windspeed*sig_y[indices]*sig_z[indices])*math.e**(-crosswind[indices]**2/(2*sig_y[indices]**2))* (math.e**(-(-stack_height)**2/(2*sig_z[indices]**2))+ math.e**(-(stack_height)**2/(2*sig_z[indices]**2)) )\n",
    "\n",
    "Concentration=np.real(Concentration)\n",
    "print(Concentration,np.shape(Concentration),len(x_range)*len(y_range))\n",
    "#maybe way to calculate area of plume over whole facility"
   ]
  },
  {
   "cell_type": "code",
   "execution_count": 33,
   "id": "459fb07f",
   "metadata": {},
   "outputs": [],
   "source": [
    "#PLOTTING IN 2D\n",
    "df=pd.DataFrame()\n",
    "df['x,y']=(X[indices2D],Y[indices2D])\n",
    "df['Concentration']=Concentration*1e6\n",
    "df.to_excel(\"checker.xlsx\")"
   ]
  },
  {
   "cell_type": "code",
   "execution_count": 1,
   "id": "f53b6188",
   "metadata": {},
   "outputs": [
    {
     "ename": "NameError",
     "evalue": "name 'sns' is not defined",
     "output_type": "error",
     "traceback": [
      "\u001b[1;31m---------------------------------------------------------------------------\u001b[0m",
      "\u001b[1;31mNameError\u001b[0m                                 Traceback (most recent call last)",
      "\u001b[1;32mc:\\Users\\danin\\Documents\\Expo7\\PYTHON\\Project 5 Atttempt 2.ipynb Cell 8\u001b[0m line \u001b[0;36m1\n\u001b[1;32m----> <a href='vscode-notebook-cell:/c%3A/Users/danin/Documents/Expo7/PYTHON/Project%205%20Atttempt%202.ipynb#X10sZmlsZQ%3D%3D?line=0'>1</a>\u001b[0m sns\u001b[39m.\u001b[39mheatmap(df)\n",
      "\u001b[1;31mNameError\u001b[0m: name 'sns' is not defined"
     ]
    }
   ],
   "source": [
    "sns.heatmap(df)"
   ]
  },
  {
   "cell_type": "code",
   "execution_count": null,
   "id": "7f892712",
   "metadata": {},
   "outputs": [],
   "source": []
  }
 ],
 "metadata": {
  "kernelspec": {
   "display_name": "Python 3 (ipykernel)",
   "language": "python",
   "name": "python3"
  },
  "language_info": {
   "codemirror_mode": {
    "name": "ipython",
    "version": 3
   },
   "file_extension": ".py",
   "mimetype": "text/x-python",
   "name": "python",
   "nbconvert_exporter": "python",
   "pygments_lexer": "ipython3",
   "version": "3.11.4"
  }
 },
 "nbformat": 4,
 "nbformat_minor": 5
}
