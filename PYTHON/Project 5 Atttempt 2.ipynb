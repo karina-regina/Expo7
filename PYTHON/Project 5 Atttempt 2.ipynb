{
 "cells": [
  {
   "cell_type": "code",
   "execution_count": 1,
   "id": "b61790d6",
   "metadata": {},
   "outputs": [
    {
     "ename": "KeyboardInterrupt",
     "evalue": "",
     "output_type": "error",
     "traceback": [
      "\u001b[1;31m---------------------------------------------------------------------------\u001b[0m",
      "\u001b[1;31mKeyboardInterrupt\u001b[0m                         Traceback (most recent call last)",
      "\u001b[1;32mc:\\Users\\danin\\Expo7\\PYTHON\\Project 5 Atttempt 2.ipynb Cell 1\u001b[0m line \u001b[0;36m1\n\u001b[1;32m----> <a href='vscode-notebook-cell:/c%3A/Users/danin/Expo7/PYTHON/Project%205%20Atttempt%202.ipynb#W0sZmlsZQ%3D%3D?line=0'>1</a>\u001b[0m \u001b[39mfrom\u001b[39;00m \u001b[39mscipy\u001b[39;00m\u001b[39m.\u001b[39;00m\u001b[39mndimage\u001b[39;00m \u001b[39mimport\u001b[39;00m rotate, shift\n\u001b[0;32m      <a href='vscode-notebook-cell:/c%3A/Users/danin/Expo7/PYTHON/Project%205%20Atttempt%202.ipynb#W0sZmlsZQ%3D%3D?line=1'>2</a>\u001b[0m \u001b[39mimport\u001b[39;00m \u001b[39mnumpy\u001b[39;00m \u001b[39mas\u001b[39;00m \u001b[39mnp\u001b[39;00m\n\u001b[0;32m      <a href='vscode-notebook-cell:/c%3A/Users/danin/Expo7/PYTHON/Project%205%20Atttempt%202.ipynb#W0sZmlsZQ%3D%3D?line=2'>3</a>\u001b[0m \u001b[39mimport\u001b[39;00m \u001b[39mmatplotlib\u001b[39;00m\u001b[39m.\u001b[39;00m\u001b[39mpyplot\u001b[39;00m \u001b[39mas\u001b[39;00m \u001b[39mplt\u001b[39;00m\n",
      "File \u001b[1;32mc:\\Users\\danin\\AppData\\Local\\Programs\\Python\\Python311\\Lib\\site-packages\\scipy\\ndimage\\__init__.py:154\u001b[0m\n\u001b[0;32m    152\u001b[0m \u001b[39mfrom\u001b[39;00m \u001b[39m.\u001b[39;00m\u001b[39m_filters\u001b[39;00m \u001b[39mimport\u001b[39;00m \u001b[39m*\u001b[39m  \u001b[39m# noqa: F401 F403\u001b[39;00m\n\u001b[0;32m    153\u001b[0m \u001b[39mfrom\u001b[39;00m \u001b[39m.\u001b[39;00m\u001b[39m_fourier\u001b[39;00m \u001b[39mimport\u001b[39;00m \u001b[39m*\u001b[39m  \u001b[39m# noqa: F401 F403\u001b[39;00m\n\u001b[1;32m--> 154\u001b[0m \u001b[39mfrom\u001b[39;00m \u001b[39m.\u001b[39;00m\u001b[39m_interpolation\u001b[39;00m \u001b[39mimport\u001b[39;00m \u001b[39m*\u001b[39m  \u001b[39m# noqa: F401 F403\u001b[39;00m\n\u001b[0;32m    155\u001b[0m \u001b[39mfrom\u001b[39;00m \u001b[39m.\u001b[39;00m\u001b[39m_measurements\u001b[39;00m \u001b[39mimport\u001b[39;00m \u001b[39m*\u001b[39m  \u001b[39m# noqa: F401 F403\u001b[39;00m\n\u001b[0;32m    156\u001b[0m \u001b[39mfrom\u001b[39;00m \u001b[39m.\u001b[39;00m\u001b[39m_morphology\u001b[39;00m \u001b[39mimport\u001b[39;00m \u001b[39m*\u001b[39m  \u001b[39m# noqa: F401 F403\u001b[39;00m\n",
      "File \u001b[1;32mc:\\Users\\danin\\AppData\\Local\\Programs\\Python\\Python311\\Lib\\site-packages\\scipy\\ndimage\\_interpolation.py:37\u001b[0m\n\u001b[0;32m     34\u001b[0m \u001b[39mimport\u001b[39;00m \u001b[39mnumpy\u001b[39;00m\n\u001b[0;32m     35\u001b[0m \u001b[39mfrom\u001b[39;00m \u001b[39mnumpy\u001b[39;00m\u001b[39m.\u001b[39;00m\u001b[39mcore\u001b[39;00m\u001b[39m.\u001b[39;00m\u001b[39mmultiarray\u001b[39;00m \u001b[39mimport\u001b[39;00m normalize_axis_index\n\u001b[1;32m---> 37\u001b[0m \u001b[39mfrom\u001b[39;00m \u001b[39mscipy\u001b[39;00m \u001b[39mimport\u001b[39;00m special\n\u001b[0;32m     38\u001b[0m \u001b[39mfrom\u001b[39;00m \u001b[39m.\u001b[39;00m \u001b[39mimport\u001b[39;00m _ni_support\n\u001b[0;32m     39\u001b[0m \u001b[39mfrom\u001b[39;00m \u001b[39m.\u001b[39;00m \u001b[39mimport\u001b[39;00m _nd_image\n",
      "File \u001b[1;32m<frozen importlib._bootstrap>:1229\u001b[0m, in \u001b[0;36m_handle_fromlist\u001b[1;34m(module, fromlist, import_, recursive)\u001b[0m\n",
      "File \u001b[1;32mc:\\Users\\danin\\AppData\\Local\\Programs\\Python\\Python311\\Lib\\site-packages\\scipy\\__init__.py:202\u001b[0m, in \u001b[0;36m__getattr__\u001b[1;34m(name)\u001b[0m\n\u001b[0;32m    200\u001b[0m \u001b[39mdef\u001b[39;00m \u001b[39m__getattr__\u001b[39m(name):\n\u001b[0;32m    201\u001b[0m     \u001b[39mif\u001b[39;00m name \u001b[39min\u001b[39;00m submodules:\n\u001b[1;32m--> 202\u001b[0m         \u001b[39mreturn\u001b[39;00m _importlib\u001b[39m.\u001b[39;49mimport_module(\u001b[39mf\u001b[39;49m\u001b[39m'\u001b[39;49m\u001b[39mscipy.\u001b[39;49m\u001b[39m{\u001b[39;49;00mname\u001b[39m}\u001b[39;49;00m\u001b[39m'\u001b[39;49m)\n\u001b[0;32m    203\u001b[0m     \u001b[39melse\u001b[39;00m:\n\u001b[0;32m    204\u001b[0m         \u001b[39mtry\u001b[39;00m:\n",
      "File \u001b[1;32mc:\\Users\\danin\\AppData\\Local\\Programs\\Python\\Python311\\Lib\\importlib\\__init__.py:126\u001b[0m, in \u001b[0;36mimport_module\u001b[1;34m(name, package)\u001b[0m\n\u001b[0;32m    124\u001b[0m             \u001b[39mbreak\u001b[39;00m\n\u001b[0;32m    125\u001b[0m         level \u001b[39m+\u001b[39m\u001b[39m=\u001b[39m \u001b[39m1\u001b[39m\n\u001b[1;32m--> 126\u001b[0m \u001b[39mreturn\u001b[39;00m _bootstrap\u001b[39m.\u001b[39;49m_gcd_import(name[level:], package, level)\n",
      "File \u001b[1;32mc:\\Users\\danin\\AppData\\Local\\Programs\\Python\\Python311\\Lib\\site-packages\\scipy\\special\\__init__.py:772\u001b[0m\n\u001b[0;32m      1\u001b[0m \u001b[39m\"\"\"\u001b[39;00m\n\u001b[0;32m      2\u001b[0m \u001b[39m========================================\u001b[39;00m\n\u001b[0;32m      3\u001b[0m \u001b[39mSpecial functions (:mod:`scipy.special`)\u001b[39;00m\n\u001b[1;32m   (...)\u001b[0m\n\u001b[0;32m    767\u001b[0m \n\u001b[0;32m    768\u001b[0m \u001b[39m\"\"\"\u001b[39;00m\n\u001b[0;32m    770\u001b[0m \u001b[39mfrom\u001b[39;00m \u001b[39m.\u001b[39;00m\u001b[39m_sf_error\u001b[39;00m \u001b[39mimport\u001b[39;00m SpecialFunctionWarning, SpecialFunctionError\n\u001b[1;32m--> 772\u001b[0m \u001b[39mfrom\u001b[39;00m \u001b[39m.\u001b[39;00m \u001b[39mimport\u001b[39;00m _ufuncs\n\u001b[0;32m    773\u001b[0m \u001b[39mfrom\u001b[39;00m \u001b[39m.\u001b[39;00m\u001b[39m_ufuncs\u001b[39;00m \u001b[39mimport\u001b[39;00m \u001b[39m*\u001b[39m\n\u001b[0;32m    775\u001b[0m \u001b[39mfrom\u001b[39;00m \u001b[39m.\u001b[39;00m \u001b[39mimport\u001b[39;00m _basic\n",
      "File \u001b[1;32mc:\\Users\\danin\\AppData\\Local\\Programs\\Python\\Python311\\Lib\\site-packages\\scipy\\special\\_ufuncs.pyx:1\u001b[0m, in \u001b[0;36minit scipy.special._ufuncs\u001b[1;34m()\u001b[0m\n",
      "File \u001b[1;32m<frozen importlib._bootstrap>:405\u001b[0m, in \u001b[0;36mparent\u001b[1;34m(self)\u001b[0m\n",
      "\u001b[1;31mKeyboardInterrupt\u001b[0m: "
     ]
    }
   ],
   "source": [
    "from scipy.ndimage import rotate, shift\n",
    "import numpy as np\n",
    "import matplotlib.pyplot as plt\n",
    "from mpl_toolkits.mplot3d import Axes3D\n",
    "import matplotlib as mpl\n",
    "from sklearn.linear_model import LinearRegression\n",
    "import scipy.stats as sp\n",
    "import pandas as pd\n",
    "import statsmodels.api as sm\n",
    "import math\n",
    "import cmath"
   ]
  },
  {
   "cell_type": "code",
   "execution_count": 121,
   "id": "8cd545c4",
   "metadata": {},
   "outputs": [],
   "source": [
    "#INPUT\n",
    "\n",
    "x_min = -20\n",
    "x_max = 100\n",
    "y_min = -50\n",
    "y_max = 50\n",
    "z_min = 0\n",
    "z_max = 30\n",
    "\n",
    "step_y = 1                                                   \n",
    "\n",
    "stability = 1 #set from 1-6                              \n",
    "\n",
    "measured_x = 63                                                   \n",
    "measured_y = 38                                                         \n",
    "measured_z = 0                                                          \n",
    "\n",
    "stack_x = 34\n",
    "stack_y = 13\n",
    "stack_height = 4       \n",
    "emission_rate = 1                                                                     \n",
    "windspeed=4.7\n",
    "wind_direction=90\n"
   ]
  },
  {
   "cell_type": "code",
   "execution_count": 122,
   "id": "ba44ebf0",
   "metadata": {},
   "outputs": [],
   "source": [
    "#GRID & STEPSIZE CALCULATION \n",
    "\n",
    "stability_str = ['Very unstable', 'Moderately unstable', 'Slightly unstable', 'Neutral', 'Moderately stable', 'Very stable'] # Possibly Useless\n",
    "ssv= stability_str[stability] # Possibly Useless\n",
    "dx=((x_max - x_min)/(y_max - y_min))* step_y\n",
    "dz=((z_max - z_min)/(y_max - y_min))* step_y\n",
    "x_range=np.arange(x_min-(0.5*x_max),(x_max+(0.5*x_max)),dx)\n",
    "y_range=np.arange(y_min-(0.5*y_max),(y_max+(0.5*y_max))+1,step_y)\n",
    "z_range=np.arange(z_min,z_max+dz,dz)\n",
    "X,Y,Z = np.meshgrid(x_range,y_range,z_range)"
   ]
  },
  {
   "cell_type": "code",
   "execution_count": null,
   "id": "c7b359aa",
   "metadata": {},
   "outputs": [],
   "source": []
  },
  {
   "cell_type": "code",
   "execution_count": 123,
   "id": "6ecfafda",
   "metadata": {},
   "outputs": [],
   "source": [
    "#WIND RELATED CALCULATIONS\n",
    "\n",
    "height_slice_direction= math.atan2(measured_y - stack_y, measured_x - stack_x) *(180/(math.pi))\n",
    "x_origin=X-stack_x\n",
    "y_origin=Y-stack_y\n",
    "\n",
    "wind_xcomponent=windspeed*math.sin(math.radians(wind_direction-180))\n",
    "wind_ycomponent=windspeed*math.cos(math.radians(wind_direction-180))\n",
    "\n",
    "dot_product=wind_xcomponent*x_origin+wind_ycomponent*y_origin\n",
    "magnitudes= windspeed*((x_origin**2)+(y_origin**2))**0.5\n",
    "\n",
    "subtended=np.arccos(dot_product/magnitudes)\n",
    "hypotenuse=((x_origin**2)+(y_origin**2))**0.5\n",
    "downwind=np.cos(subtended)*hypotenuse\n",
    "downwindimag=np.vectorize(complex)(downwind.real, downwind.imag)"
   ]
  },
  {
   "cell_type": "code",
   "execution_count": 124,
   "id": "43bebefa",
   "metadata": {},
   "outputs": [],
   "source": [
    "#PASQUILL CONSTANTS & SIGMA CALCULATION\n",
    "\n",
    "stability_class= {1 : (122.8,0.94470,24.1670,2.5334),\n",
    "                  2: (90.673, 0.93198, 18.3330, 1.8096),\n",
    "                  3: (61.141, 0.91465, 12.5, 1.0857),\n",
    "                  4: (34.459, 0.86974, 8.3330, 0.72382),\n",
    "                  5: (24.26, 0.83660, 6.25, 0.54287),\n",
    "                  6: (15.209, 0.81558, 4.1667, 0.36191)\n",
    "                 }\n",
    "P_a=stability_class[stability][0] \n",
    "P_b=stability_class[stability][1]\n",
    "P_c=stability_class[stability][2]\n",
    "P_d=stability_class[stability][3]\n",
    "\n",
    "sig_z = P_a*(abs((X/1000))**P_b)\n",
    "sig_z[sig_z > 5000] = 5000\n",
    "theta=0.017453293*(P_c-P_d*np.log((downwindimag/1000)))\n",
    "sig_y=(465.11628*downwind/1000)*np.tan(theta)"
   ]
  },
  {
   "cell_type": "code",
   "execution_count": 143,
   "metadata": {},
   "outputs": [],
   "source": [
    "#CROSSWIND AND GAUSSIAN FORMULA\n",
    "\n",
    "crosswind=np.sin(subtended)*hypotenuse\n",
    "indices=np.where(downwind > 0)\n",
    "Concentration =emission_rate/(2*math.pi*windspeed*sig_y[indices]*sig_z[indices])*math.e**(-crosswind[indices]**2/(2*sig_y[indices]**2))* (math.e**(-(Z[indices]-stack_height)**2/(2*sig_z[indices]**2))+ math.e**(-(Z[indices]+stack_height)**2/(2*sig_z[indices]**2)) )\n"
   ]
  },
  {
   "cell_type": "code",
   "execution_count": 10,
   "id": "f53b6188",
   "metadata": {},
   "outputs": [],
   "source": [
    "print('change')"
   ]
  }
 ],
 "metadata": {
  "kernelspec": {
   "display_name": "Python 3 (ipykernel)",
   "language": "python",
   "name": "python3"
  },
  "language_info": {
   "codemirror_mode": {
    "name": "ipython",
    "version": 3
   },
   "file_extension": ".py",
   "mimetype": "text/x-python",
   "name": "python",
   "nbconvert_exporter": "python",
   "pygments_lexer": "ipython3",
   "version": "3.11.5"
  }
 },
 "nbformat": 4,
 "nbformat_minor": 5
}
