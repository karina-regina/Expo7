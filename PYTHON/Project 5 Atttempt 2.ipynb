{
 "cells": [
  {
   "cell_type": "code",
   "execution_count": 22,
   "id": "b61790d6",
   "metadata": {},
   "outputs": [],
   "source": [
    "from scipy.ndimage import rotate, shift\n",
    "import numpy as np\n",
    "import matplotlib.pyplot as plt\n",
    "from mpl_toolkits.mplot3d import Axes3D\n",
    "import matplotlib as mpl\n",
    "#from sklearn.linear_model import LinearRegression\n",
    "import scipy.stats as sp\n",
    "import pandas as pd\n",
    "import statsmodels.api as sm\n",
    "import math"
   ]
  },
  {
   "cell_type": "code",
   "execution_count": 30,
   "id": "8cd545c4",
   "metadata": {},
   "outputs": [],
   "source": [
    "#INPUT\n",
    "\n",
    "x_min = -20\n",
    "x_max = 100\n",
    "y_min = -50\n",
    "y_max = 50\n",
    "z_min = 0\n",
    "z_max = 30\n",
    "\n",
    "step_y = 1                                                   \n",
    "\n",
    "stability = 1 #set from 1-6                              \n",
    "\n",
    "measured_x = 63                                                   \n",
    "measured_y = 38                                                         \n",
    "measured_z = 0                                                          \n",
    "\n",
    "stack_x = 34\n",
    "stack_y = 13\n",
    "stack_height = 4       \n",
    "emission_rate = 1                                                                     \n",
    "windspeed=4.7\n",
    "wind_direction=90\n"
   ]
  },
  {
   "cell_type": "code",
   "execution_count": 31,
   "id": "ba44ebf0",
   "metadata": {},
   "outputs": [],
   "source": [
    "#GRID & STEPSIZE CALCULATION \n",
    "\n",
    "stability_str = ['Very unstable', 'Moderately unstable', 'Slightly unstable', 'Neutral', 'Moderately stable', 'Very stable'] # Possibly Useless\n",
    "ssv= stability_str[stability] # Possibly Useless\n",
    "dx=(x_max - x_min)/(y_max - y_min)* step_y\n",
    "dz=(z_max - z_min)/(y_max - y_min)* step_y\n",
    "x_range=np.arange(x_min-(0.5*x_max),(x_max+(0.5*x_max)),dx)\n",
    "y_range=np.arange(y_min-(0.5*y_max),(y_max+(0.5*y_max)),step_y)\n",
    "z_range=(z_min,z_max,dz)\n",
    "X,Y,Z = np.meshgrid(x_range,y_range,z_range)"
   ]
  },
  {
   "cell_type": "code",
   "execution_count": 32,
   "id": "c7b359aa",
   "metadata": {},
   "outputs": [
    {
     "data": {
      "text/plain": [
       "40.763605200941164"
      ]
     },
     "execution_count": 32,
     "metadata": {},
     "output_type": "execute_result"
    }
   ],
   "source": [
    "#WIND DIRECTION\n",
    "\n",
    "height_slice_direction= math.atan2(measured_y - stack_y, measured_x - stack_x) *(180/(math.pi))\n",
    "height_slice_direction    "
   ]
  },
  {
   "cell_type": "code",
   "execution_count": 33,
   "id": "6ecfafda",
   "metadata": {},
   "outputs": [],
   "source": [
    "x_origin=X-stack_x\n",
    "y_origin=Y-stack_y\n",
    "\n",
    "wind_xcomponent=windspeed*math.sin(math.radians(wind_direction-180))\n",
    "wind_ycomponent=windspeed*math.cos(math.radians(wind_direction-180))\n",
    "\n",
    "dot_product=wind_xcomponent*x_origin+wind_ycomponent*y_origin\n",
    "magnitudes= windspeed*((x_origin**2)+(y_origin**2))**0.5\n",
    "\n",
    "subtended=np.arccos(dot_product/magnitudes)\n",
    "hypotenuse=((x_origin**2)+(y_origin**2))**0.5\n",
    "downwind=np.cos(subtended)*hypotenuse"
   ]
  },
  {
   "cell_type": "code",
   "execution_count": 41,
   "id": "43bebefa",
   "metadata": {},
   "outputs": [],
   "source": [
    "#PASQUILL CONSTANTS & SIGMA CALCULATION\n",
    "stability_class= {1 : (122.8,0.94470,24.1670,2.5334),\n",
    "                  2: (90.673, 0.93198, 18.3330, 1.8096),\n",
    "                  3: (61.141, 0.91465, 12.5, 1.0857),\n",
    "                  4: (34.459, 0.86974, 8.3330, 0.72382),\n",
    "                  5: (24.26, 0.83660, 6.25, 0.54287),\n",
    "                  6: (15.209, 0.81558, 4.1667, 0.36191)\n",
    "                 }\n",
    "P_a=stability_class[stability][0] \n",
    "P_b=stability_class[stability][1]\n",
    "P_c=stability_class[stability][2]\n",
    "P_d=stability_class[stability][3]\n",
    "\n",
    "sig_z = P_a*(abs((X/1000))**P_b)\n",
    "downwindimag=np.vectorize(complex)(downwind.real, downwind.imag)\n",
    "theta=0.017453293*(P_c-P_d*np.log((downwindimag/1000)))"
   ]
  },
  {
   "cell_type": "code",
   "execution_count": null,
   "id": "f53b6188",
   "metadata": {},
   "outputs": [],
   "source": [
    "print('change')"
   ]
  }
 ],
 "metadata": {
  "kernelspec": {
   "display_name": "Python 3 (ipykernel)",
   "language": "python",
   "name": "python3"
  },
  "language_info": {
   "codemirror_mode": {
    "name": "ipython",
    "version": 3
   },
   "file_extension": ".py",
   "mimetype": "text/x-python",
   "name": "python",
   "nbconvert_exporter": "python",
   "pygments_lexer": "ipython3",
   "version": "3.11.5"
  }
 },
 "nbformat": 4,
 "nbformat_minor": 5
}
