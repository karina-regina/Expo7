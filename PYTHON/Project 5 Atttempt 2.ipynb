{
 "cells": [
  {
   "cell_type": "code",
   "execution_count": 120,
   "id": "b61790d6",
   "metadata": {},
   "outputs": [],
   "source": [
    "from scipy.ndimage import rotate, shift\n",
    "import numpy as np\n",
    "import matplotlib.pyplot as plt\n",
    "from mpl_toolkits.mplot3d import Axes3D\n",
    "import matplotlib as mpl\n",
    "from sklearn.linear_model import LinearRegression\n",
    "import scipy.stats as sp\n",
    "import pandas as pd\n",
    "import statsmodels.api as sm\n",
    "import math\n",
    "import cmath"
   ]
  },
  {
   "cell_type": "code",
   "execution_count": 121,
   "id": "8cd545c4",
   "metadata": {},
   "outputs": [],
   "source": [
    "#INPUT\n",
    "\n",
    "x_min = -20\n",
    "x_max = 100\n",
    "y_min = -50\n",
    "y_max = 50\n",
    "z_min = 0\n",
    "z_max = 30\n",
    "\n",
    "step_y = 1                                                   \n",
    "\n",
    "stability = 1 #set from 1-6                              \n",
    "\n",
    "measured_x = 63                                                   \n",
    "measured_y = 38                                                         \n",
    "measured_z = 0                                                          \n",
    "\n",
    "stack_x = 34\n",
    "stack_y = 13\n",
    "stack_height = 4       \n",
    "emission_rate = 1                                                                     \n",
    "windspeed=4.7\n",
    "wind_direction=90\n"
   ]
  },
  {
   "cell_type": "code",
   "execution_count": 122,
   "id": "ba44ebf0",
   "metadata": {},
   "outputs": [],
   "source": [
    "#GRID & STEPSIZE CALCULATION \n",
    "\n",
    "stability_str = ['Very unstable', 'Moderately unstable', 'Slightly unstable', 'Neutral', 'Moderately stable', 'Very stable'] # Possibly Useless\n",
    "ssv= stability_str[stability] # Possibly Useless\n",
    "dx=((x_max - x_min)/(y_max - y_min))* step_y\n",
    "dz=((z_max - z_min)/(y_max - y_min))* step_y\n",
    "x_range=np.arange(x_min-(0.5*x_max),(x_max+(0.5*x_max)),dx)\n",
    "y_range=np.arange(y_min-(0.5*y_max),(y_max+(0.5*y_max))+1,step_y)\n",
    "z_range=np.arange(z_min,z_max+dz,dz)\n",
    "X,Y,Z = np.meshgrid(x_range,y_range,z_range)"
   ]
  },
  {
   "cell_type": "code",
   "execution_count": null,
   "id": "c7b359aa",
   "metadata": {},
   "outputs": [],
   "source": []
  },
  {
   "cell_type": "code",
   "execution_count": 123,
   "id": "6ecfafda",
   "metadata": {},
   "outputs": [],
   "source": [
    "#WIND RELATED CALCULATIONS\n",
    "\n",
    "height_slice_direction= math.atan2(measured_y - stack_y, measured_x - stack_x) *(180/(math.pi))\n",
    "x_origin=X-stack_x\n",
    "y_origin=Y-stack_y\n",
    "\n",
    "wind_xcomponent=windspeed*math.sin(math.radians(wind_direction-180))\n",
    "wind_ycomponent=windspeed*math.cos(math.radians(wind_direction-180))\n",
    "\n",
    "dot_product=wind_xcomponent*x_origin+wind_ycomponent*y_origin\n",
    "magnitudes= windspeed*((x_origin**2)+(y_origin**2))**0.5\n",
    "\n",
    "subtended=np.arccos(dot_product/magnitudes)\n",
    "hypotenuse=((x_origin**2)+(y_origin**2))**0.5\n",
    "downwind=np.cos(subtended)*hypotenuse\n",
    "downwindimag=np.vectorize(complex)(downwind.real, downwind.imag)"
   ]
  },
  {
   "cell_type": "code",
   "execution_count": 124,
   "id": "43bebefa",
   "metadata": {},
   "outputs": [],
   "source": [
    "#PASQUILL CONSTANTS & SIGMA CALCULATION\n",
    "\n",
    "stability_class= {1 : (122.8,0.94470,24.1670,2.5334),\n",
    "                  2: (90.673, 0.93198, 18.3330, 1.8096),\n",
    "                  3: (61.141, 0.91465, 12.5, 1.0857),\n",
    "                  4: (34.459, 0.86974, 8.3330, 0.72382),\n",
    "                  5: (24.26, 0.83660, 6.25, 0.54287),\n",
    "                  6: (15.209, 0.81558, 4.1667, 0.36191)\n",
    "                 }\n",
    "P_a=stability_class[stability][0] \n",
    "P_b=stability_class[stability][1]\n",
    "P_c=stability_class[stability][2]\n",
    "P_d=stability_class[stability][3]\n",
    "\n",
    "sig_z = P_a*(abs((X/1000))**P_b)\n",
    "sig_z[sig_z > 5000] = 5000\n",
    "theta=0.017453293*(P_c-P_d*np.log((downwindimag/1000)))\n",
    "sig_y=(465.11628*downwind/1000)*np.tan(theta)"
   ]
  },
  {
   "cell_type": "code",
   "execution_count": 132,
   "metadata": {},
   "outputs": [
    {
     "name": "stdout",
     "output_type": "stream",
     "text": [
      "(27.528021300885143+0j)\n",
      "(151, 184, 101)\n",
      "(1326837,)\n",
      "1326837\n",
      "[      0       1       2 ... 2796384 2796385 2796386]\n"
     ]
    }
   ],
   "source": [
    "#CROSSWIND AND GAUSSIAN FORMULA\n",
    "\n",
    "crosswind=np.sin(subtended)*hypotenuse\n",
    "indices=np.where(downwind > 0)\n",
    "indices=np.ravel_multi_index(indices, downwind.shape)\n",
    "dim1_shape, dim2_shape, dim3_shape = np.shape(downwind)\n",
    "Concentration= np.empty_like(downwind, dtype=int)\n",
    "\n",
    "#currently stuck on calculating 'ind'. in matlab asking for an element in a 3d array \n",
    "# using only the element number is possible, not in python. it wants the 3 inputs. \n",
    "#the best case scenario is no for-loops, and an output for dim1,dim2,dim3 index being either 3 separate lists \n",
    "# or one list of a tuple with 3 values each\n",
    "\n",
    "#dim1_index = indices // (dim2_shape * dim3_shape)\n",
    "#remainder = indices % (dim2_shape * dim3_shape)\n",
    "#dim2_index = remainder // dim3_shape\n",
    "#dim3_index = remainder % dim3_shape\n",
    "print(sig_y[1][1][2])\n",
    "print(np.shape(downwind))\n",
    "print(np.shape(indices))\n",
    "print(np.size(indices))\n",
    "#zConcentration(indices) =emission_rate/(2*math.pi*windspeed*sig_y(indices)*sig_z(indices))*math.e**(-crosswind(indices)**2/(2*sig_y(indices)**2))* (exp(-(z(indices)-H)**2/(2*sig_z(indices)**2))+ math.e(-(z(indices)+H)**2/(2*sig_z(indices)**2)) );\n",
    "print(indices)"
   ]
  },
  {
   "cell_type": "code",
   "execution_count": 101,
   "id": "f53b6188",
   "metadata": {},
   "outputs": [
    {
     "name": "stdout",
     "output_type": "stream",
     "text": [
      "change\n"
     ]
    }
   ],
   "source": [
    "print('change')"
   ]
  }
 ],
 "metadata": {
  "kernelspec": {
   "display_name": "Python 3 (ipykernel)",
   "language": "python",
   "name": "python3"
  },
  "language_info": {
   "codemirror_mode": {
    "name": "ipython",
    "version": 3
   },
   "file_extension": ".py",
   "mimetype": "text/x-python",
   "name": "python",
   "nbconvert_exporter": "python",
   "pygments_lexer": "ipython3",
   "version": "3.11.5"
  }
 },
 "nbformat": 4,
 "nbformat_minor": 5
}
