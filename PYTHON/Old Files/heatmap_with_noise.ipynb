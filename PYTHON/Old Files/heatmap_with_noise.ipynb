{
 "cells": [
  {
   "cell_type": "code",
   "execution_count": 2,
   "metadata": {},
   "outputs": [],
   "source": [
    "from scipy.ndimage import rotate, shift\n",
    "import numpy as np\n",
    "import matplotlib.pyplot as plt\n",
    "from mpl_toolkits.mplot3d import Axes3D\n",
    "import matplotlib as mpl\n",
    "from sklearn.linear_model import LinearRegression\n",
    "import scipy.stats as sp\n",
    "import pandas as pd\n",
    "import statsmodels.api as sm\n",
    "import random\n",
    "import math\n",
    "import cmath\n",
    "import seaborn as sns"
   ]
  },
  {
   "cell_type": "code",
   "execution_count": null,
   "metadata": {},
   "outputs": [],
   "source": [
    "#INPUT\n",
    "stability = 1#set from 1-6                              \n",
    "\n",
    "stability = 1#np.random.randint(1,6)                                                                                   \n",
    "#Origin Coordinates Of Plume\n",
    "angle= np.random.uniform(0, 2 * np.pi)\n",
    "stack_x = np.random.uniform(0, 51) * np.cos(angle)\n",
    "stack_y = np.random.uniform(0, 51) * np.sin(angle)\n",
    "stack_height = np.random.randint(1,11) \n",
    "emission_rate = np.random.randint(1,21)                                                                 \n",
    "windspeed= np.random.randint(1,26)\n",
    "#Wind Angle In Degrees\n",
    "wind_direction= np.random.randint(0,360)"
   ]
  },
  {
   "cell_type": "code",
   "execution_count": 3,
   "metadata": {},
   "outputs": [
    {
     "ename": "NameError",
     "evalue": "name 'stability' is not defined",
     "output_type": "error",
     "traceback": [
      "\u001b[1;31m---------------------------------------------------------------------------\u001b[0m",
      "\u001b[1;31mNameError\u001b[0m                                 Traceback (most recent call last)",
      "\u001b[1;32mc:\\Users\\danin\\Documents\\Expo7\\PYTHON\\Old Files\\heatmap_with_noise.ipynb Cell 3\u001b[0m line \u001b[0;36m4\n\u001b[0;32m      <a href='vscode-notebook-cell:/c%3A/Users/danin/Documents/Expo7/PYTHON/Old%20Files/heatmap_with_noise.ipynb#W2sZmlsZQ%3D%3D?line=0'>1</a>\u001b[0m \u001b[39m#GRID & STEPSIZE CALCULATION \u001b[39;00m\n\u001b[0;32m      <a href='vscode-notebook-cell:/c%3A/Users/danin/Documents/Expo7/PYTHON/Old%20Files/heatmap_with_noise.ipynb#W2sZmlsZQ%3D%3D?line=2'>3</a>\u001b[0m stability_str \u001b[39m=\u001b[39m [\u001b[39m'\u001b[39m\u001b[39mVery unstable\u001b[39m\u001b[39m'\u001b[39m, \u001b[39m'\u001b[39m\u001b[39mModerately unstable\u001b[39m\u001b[39m'\u001b[39m, \u001b[39m'\u001b[39m\u001b[39mSlightly unstable\u001b[39m\u001b[39m'\u001b[39m, \u001b[39m'\u001b[39m\u001b[39mNeutral\u001b[39m\u001b[39m'\u001b[39m, \u001b[39m'\u001b[39m\u001b[39mModerately stable\u001b[39m\u001b[39m'\u001b[39m, \u001b[39m'\u001b[39m\u001b[39mVery stable\u001b[39m\u001b[39m'\u001b[39m] \u001b[39m# Possibly Useless\u001b[39;00m\n\u001b[1;32m----> <a href='vscode-notebook-cell:/c%3A/Users/danin/Documents/Expo7/PYTHON/Old%20Files/heatmap_with_noise.ipynb#W2sZmlsZQ%3D%3D?line=3'>4</a>\u001b[0m ssv\u001b[39m=\u001b[39m stability_str[stability\u001b[39m-\u001b[39m\u001b[39m1\u001b[39m] \u001b[39m# Possibly Useless\u001b[39;00m\n\u001b[0;32m      <a href='vscode-notebook-cell:/c%3A/Users/danin/Documents/Expo7/PYTHON/Old%20Files/heatmap_with_noise.ipynb#W2sZmlsZQ%3D%3D?line=4'>5</a>\u001b[0m x_range\u001b[39m=\u001b[39mnp\u001b[39m.\u001b[39marange(\u001b[39m-\u001b[39m\u001b[39m100\u001b[39m,\u001b[39m100\u001b[39m,\u001b[39m0.5\u001b[39m)\n\u001b[0;32m      <a href='vscode-notebook-cell:/c%3A/Users/danin/Documents/Expo7/PYTHON/Old%20Files/heatmap_with_noise.ipynb#W2sZmlsZQ%3D%3D?line=5'>6</a>\u001b[0m y_range\u001b[39m=\u001b[39mnp\u001b[39m.\u001b[39marange(\u001b[39m-\u001b[39m\u001b[39m100\u001b[39m,\u001b[39m100\u001b[39m,\u001b[39m0.5\u001b[39m)\n",
      "\u001b[1;31mNameError\u001b[0m: name 'stability' is not defined"
     ]
    }
   ],
   "source": [
    "#GRID & STEPSIZE CALCULATION \n",
    "\n",
    "stability_str = ['Very unstable', 'Moderately unstable', 'Slightly unstable', 'Neutral', 'Moderately stable', 'Very stable'] # Possibly Useless\n",
    "ssv= stability_str[stability-1] # Possibly Useless\n",
    "x_range=np.arange(-100,100,0.5)\n",
    "y_range=np.arange(-100,100,0.5)\n",
    "z_range=np.arange(0,50,0.5)\n",
    "X,Y,Z = np.meshgrid(x_range,y_range,z_range)"
   ]
  },
  {
   "cell_type": "code",
   "execution_count": null,
   "metadata": {},
   "outputs": [],
   "source": [
    "#WIND RELATED CALCULATIONS\n",
    "\n",
    "height_slice_direction= math.atan2(Y - stack_y, X - stack_x) *(180/(math.pi))\n",
    "x_origin=X-stack_x\n",
    "y_origin=Y-stack_y\n",
    "\n",
    "wind_xcomponent=windspeed*math.sin(math.radians(wind_direction-180))\n",
    "wind_ycomponent=windspeed*math.cos(math.radians(wind_direction-180))\n",
    "\n",
    "dot_product=wind_xcomponent*x_origin+wind_ycomponent*y_origin\n",
    "magnitudes= windspeed*((x_origin**2)+(y_origin**2))**0.5\n",
    "subtended=np.arccos(dot_product/(magnitudes+1e-5))\n",
    "hypotenuse=((x_origin**2)+(y_origin**2))**0.5\n",
    "downwind=np.cos(subtended)*hypotenuse\n",
    "downwindimag=np.vectorize(complex)(downwind.real, downwind.imag)"
   ]
  },
  {
   "cell_type": "code",
   "execution_count": null,
   "metadata": {},
   "outputs": [],
   "source": [
    "#PASQUILL CONSTANTS & SIGMA CALCULATION\n",
    "\n",
    "stability_class= {1 : (122.8,0.94470,24.1670,2.5334),\n",
    "                  2: (90.673, 0.93198, 18.3330, 1.8096),\n",
    "                  3: (61.141, 0.91465, 12.5, 1.0857),\n",
    "                  4: (34.459, 0.86974, 8.3330, 0.72382),\n",
    "                  5: (24.26, 0.83660, 6.25, 0.54287),\n",
    "                  6: (15.209, 0.81558, 4.1667, 0.36191)\n",
    "                 }\n",
    "P_a=stability_class[stability][0] \n",
    "P_b=stability_class[stability][1]\n",
    "P_c=stability_class[stability][2]\n",
    "P_d=stability_class[stability][3]\n",
    "\n",
    "sig_z = P_a*(abs((downwind/1000))**P_b)\n",
    "sig_z[sig_z > 5000] = 5000\n",
    "theta=0.017453293*(P_c-P_d*np.log((downwindimag/1000)))\n",
    "sig_y=(465.11628*downwind/1000)*np.tan(theta)"
   ]
  },
  {
   "cell_type": "code",
   "execution_count": null,
   "metadata": {},
   "outputs": [],
   "source": [
    "#CROSSWIND AND GAUSSIAN FORMULA\n",
    "\n",
    "crosswind=np.sin(subtended)*hypotenuse\n",
    "indix,indiy,indiz=np.where((downwind > 0))\n",
    "Concentration= np.zeros(np.shape(downwind))\n",
    "Concentration[indix,indiy,indiz] =((emission_rate/(2*math.pi*windspeed*sig_y[indix,indiy,indiz]*sig_z[indix,indiy,indiz]))*(math.e**(-crosswind[indix,indiy,indiz]**2/(2*sig_y[indix,indiy,indiz]**2))* (math.e**(-(Z[indix,indiy,indiz]-stack_height)**2/(2*sig_z[indix,indiy,indiz]**2))+ math.e**(-(Z[indix,indiy,indiz]+stack_height)**2/(2*sig_z[indix,indiy,indiz]**2)))))\n",
    "\n",
    "#print(Concentration,np.shape(Concentration),len(x_range)*len(y_range))\n",
    "#maybe way to calculate area of plume over whole facility"
   ]
  },
  {
   "cell_type": "code",
   "execution_count": null,
   "metadata": {},
   "outputs": [],
   "source": [
    "#PLOTTING IN 2D\n",
    "\n",
    "Concentration2D=(Concentration[:,:, 0].T)\n",
    "#Concentration2D[:,:]=Concentration2D[:,:]+0.5*random.randint(-1, 1)*Concentration2D[:,:]\n",
    "for i in range \n",
    "plt.figure()\n",
    "pcm = plt.pcolor(x_range, y_range, Concentration2D[:,:], shading=None, cmap='jet')\n",
    "plt.colorbar()"
   ]
  },
  {
   "cell_type": "code",
   "execution_count": 1,
   "metadata": {},
   "outputs": [
    {
     "data": {
      "text/plain": [
       "1"
      ]
     },
     "execution_count": 1,
     "metadata": {},
     "output_type": "execute_result"
    }
   ],
   "source": [
    "a=[1]\n",
    "a[-1]"
   ]
  }
 ],
 "metadata": {
  "kernelspec": {
   "display_name": "base",
   "language": "python",
   "name": "python3"
  },
  "language_info": {
   "codemirror_mode": {
    "name": "ipython",
    "version": 3
   },
   "file_extension": ".py",
   "mimetype": "text/x-python",
   "name": "python",
   "nbconvert_exporter": "python",
   "pygments_lexer": "ipython3",
   "version": "3.11.5"
  }
 },
 "nbformat": 4,
 "nbformat_minor": 2
}
