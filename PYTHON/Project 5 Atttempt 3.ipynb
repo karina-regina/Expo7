{
 "cells": [
  {
   "cell_type": "code",
   "execution_count": 2,
   "id": "b61790d6",
   "metadata": {},
   "outputs": [
    {
     "name": "stdout",
     "output_type": "stream",
     "text": [
      "[[[3 2 1]\n",
      "  [3 2 1]\n",
      "  [3 2 1]]\n",
      "\n",
      " [[3 2 1]\n",
      "  [3 2 1]\n",
      "  [3 2 1]]\n",
      "\n",
      " [[3 2 1]\n",
      "  [3 2 1]\n",
      "  [3 2 1]]]\n"
     ]
    }
   ],
   "source": [
    "from scipy.ndimage import rotate, shift\n",
    "import numpy as np\n",
    "import matplotlib.pyplot as plt\n",
    "from mpl_toolkits.mplot3d import Axes3D\n",
    "import matplotlib as mpl\n",
    "from sklearn.linear_model import LinearRegression\n",
    "import scipy.stats as sp\n",
    "import pandas as pd\n",
    "import statsmodels.api as sm\n",
    "import math\n",
    "import cmath\n",
    "import seaborn as sns\n",
    "\n",
    "g=np.array([[[3,2,1],[3,2,1],[3,2,1]],[[3,2,1],[3,2,1],[3,2,1]],[[3,2,1],[3,2,1],[3,2,1]]])\n",
    "a,b,c=np.where(g>1)\n",
    "v=np.array([0,1])\n",
    "g[v][v][v]=0\n",
    "print(g)"
   ]
  },
  {
   "cell_type": "code",
   "execution_count": 3,
   "id": "8cd545c4",
   "metadata": {},
   "outputs": [],
   "source": [
    "#INPUT\n",
    "stability = 1 #set from 1-6                              \n",
    "\n",
    "measured_x = 63                                                   \n",
    "measured_y = 38                                                         \n",
    "measured_z = 0                                                          \n",
    "\n",
    "stack_x = 34\n",
    "stack_y = 13\n",
    "stack_height = 4       \n",
    "emission_rate = 1                                                                     \n",
    "windspeed=4.7\n",
    "wind_direction=90\n"
   ]
  },
  {
   "cell_type": "code",
   "execution_count": 4,
   "id": "ba44ebf0",
   "metadata": {},
   "outputs": [],
   "source": [
    "#GRID & STEPSIZE CALCULATION \n",
    "\n",
    "stability_str = ['Very unstable', 'Moderately unstable', 'Slightly unstable', 'Neutral', 'Moderately stable', 'Very stable'] # Possibly Useless\n",
    "ssv= stability_str[stability] # Possibly Useless\n",
    "x_range=np.arange(-100,100,0.5)\n",
    "y_range=np.arange(-100,100,0.5)\n",
    "z_range=np.arange(0,50,0.5)\n",
    "X,Y,Z = np.meshgrid(x_range,y_range,z_range)"
   ]
  },
  {
   "cell_type": "markdown",
   "id": "02bf14a4",
   "metadata": {},
   "source": []
  },
  {
   "cell_type": "code",
   "execution_count": 5,
   "id": "6ecfafda",
   "metadata": {},
   "outputs": [
    {
     "name": "stdout",
     "output_type": "stream",
     "text": [
      "(400, 400, 100) (400, 400, 100)\n",
      "823.841762719031\n",
      "()\n"
     ]
    }
   ],
   "source": [
    "#WIND RELATED CALCULATIONS\n",
    "\n",
    "height_slice_direction= math.atan2(measured_y - stack_y, measured_x - stack_x) *(180/(math.pi))\n",
    "x_origin=X-stack_x\n",
    "y_origin=Y-stack_y\n",
    "\n",
    "wind_xcomponent=windspeed*math.sin(math.radians(wind_direction-180))\n",
    "wind_ycomponent=windspeed*math.cos(math.radians(wind_direction-180))\n",
    "\n",
    "#print(wind_xcomponent, wind_ycomponent)\n",
    "\n",
    "dot_product=wind_xcomponent*x_origin+wind_ycomponent*y_origin\n",
    "magnitudes= windspeed*((x_origin**2)+(y_origin**2))**0.5\n",
    "print(np.shape(dot_product), np.shape(magnitudes))\n",
    "ix,iy,iz= np.where(magnitudes==0)\n",
    "magnitudes[ix,iy,iz]=math.pi/2\n",
    "print(magnitudes[0][0][0])\n",
    "subtended=np.arccos(dot_product/magnitudes)\n",
    "hypotenuse=((x_origin**2)+(y_origin**2))**0.5\n",
    "downwind=np.cos(subtended)*hypotenuse\n",
    "downwindimag=np.vectorize(complex)(downwind.real, downwind.imag)\n",
    "print(())\n"
   ]
  },
  {
   "cell_type": "code",
   "execution_count": 6,
   "id": "43bebefa",
   "metadata": {},
   "outputs": [
    {
     "name": "stderr",
     "output_type": "stream",
     "text": [
      "C:\\Users\\Karina\\AppData\\Local\\Temp\\ipykernel_20164\\1855627828.py:17: RuntimeWarning: divide by zero encountered in log\n",
      "  theta=0.017453293*(P_c-P_d*np.log((downwindimag/1000)))\n",
      "C:\\Users\\Karina\\AppData\\Local\\Temp\\ipykernel_20164\\1855627828.py:17: RuntimeWarning: invalid value encountered in multiply\n",
      "  theta=0.017453293*(P_c-P_d*np.log((downwindimag/1000)))\n"
     ]
    }
   ],
   "source": [
    "#PASQUILL CONSTANTS & SIGMA CALCULATION\n",
    "\n",
    "stability_class= {1 : (122.8,0.94470,24.1670,2.5334),\n",
    "                  2: (90.673, 0.93198, 18.3330, 1.8096),\n",
    "                  3: (61.141, 0.91465, 12.5, 1.0857),\n",
    "                  4: (34.459, 0.86974, 8.3330, 0.72382),\n",
    "                  5: (24.26, 0.83660, 6.25, 0.54287),\n",
    "                  6: (15.209, 0.81558, 4.1667, 0.36191)\n",
    "                 }\n",
    "P_a=stability_class[stability][0] \n",
    "P_b=stability_class[stability][1]\n",
    "P_c=stability_class[stability][2]\n",
    "P_d=stability_class[stability][3]\n",
    "\n",
    "sig_z = P_a*(abs((X/1000))**P_b)\n",
    "sig_z[sig_z > 5000] = 5000\n",
    "theta=0.017453293*(P_c-P_d*np.log((downwindimag/1000)))\n",
    "sig_y=(465.11628*downwind/1000)*np.tan(theta)"
   ]
  },
  {
   "cell_type": "code",
   "execution_count": 7,
   "metadata": {},
   "outputs": [
    {
     "name": "stdout",
     "output_type": "stream",
     "text": [
      "(400, 400, 100)\n"
     ]
    },
    {
     "name": "stderr",
     "output_type": "stream",
     "text": [
      "C:\\Users\\Karina\\AppData\\Local\\Temp\\ipykernel_20164\\3080784554.py:10: RuntimeWarning: divide by zero encountered in divide\n",
      "  Concentration[indix,indiy,indiz] =(emission_rate/(2*math.pi*windspeed*sig_y[indix,indiy,indiz]*sig_z[indix,indiy,indiz])*math.e**(-crosswind[indix,indiy,indiz]*2/(2*sig_y[indix,indiy,indiz]*2))* (math.e**(-(Z[indix,indiy,indiz]-stack_height)**2/(2*sig_z[indix,indiy,indiz]*2))+ math.e**(-(Z[indix,indiy,indiz]-stack_height)**2/(2*sig_z[indix,indiy,indiz]**2))))\n",
      "C:\\Users\\Karina\\AppData\\Local\\Temp\\ipykernel_20164\\3080784554.py:10: RuntimeWarning: invalid value encountered in divide\n",
      "  Concentration[indix,indiy,indiz] =(emission_rate/(2*math.pi*windspeed*sig_y[indix,indiy,indiz]*sig_z[indix,indiy,indiz])*math.e**(-crosswind[indix,indiy,indiz]*2/(2*sig_y[indix,indiy,indiz]*2))* (math.e**(-(Z[indix,indiy,indiz]-stack_height)**2/(2*sig_z[indix,indiy,indiz]*2))+ math.e**(-(Z[indix,indiy,indiz]-stack_height)**2/(2*sig_z[indix,indiy,indiz]**2))))\n",
      "C:\\Users\\Karina\\AppData\\Local\\Temp\\ipykernel_20164\\3080784554.py:10: RuntimeWarning: overflow encountered in power\n",
      "  Concentration[indix,indiy,indiz] =(emission_rate/(2*math.pi*windspeed*sig_y[indix,indiy,indiz]*sig_z[indix,indiy,indiz])*math.e**(-crosswind[indix,indiy,indiz]*2/(2*sig_y[indix,indiy,indiz]*2))* (math.e**(-(Z[indix,indiy,indiz]-stack_height)**2/(2*sig_z[indix,indiy,indiz]*2))+ math.e**(-(Z[indix,indiy,indiz]-stack_height)**2/(2*sig_z[indix,indiy,indiz]**2))))\n",
      "C:\\Users\\Karina\\AppData\\Local\\Temp\\ipykernel_20164\\3080784554.py:10: RuntimeWarning: invalid value encountered in multiply\n",
      "  Concentration[indix,indiy,indiz] =(emission_rate/(2*math.pi*windspeed*sig_y[indix,indiy,indiz]*sig_z[indix,indiy,indiz])*math.e**(-crosswind[indix,indiy,indiz]*2/(2*sig_y[indix,indiy,indiz]*2))* (math.e**(-(Z[indix,indiy,indiz]-stack_height)**2/(2*sig_z[indix,indiy,indiz]*2))+ math.e**(-(Z[indix,indiy,indiz]-stack_height)**2/(2*sig_z[indix,indiy,indiz]**2))))\n",
      "C:\\Users\\Karina\\AppData\\Local\\Temp\\ipykernel_20164\\3080784554.py:10: ComplexWarning: Casting complex values to real discards the imaginary part\n",
      "  Concentration[indix,indiy,indiz] =(emission_rate/(2*math.pi*windspeed*sig_y[indix,indiy,indiz]*sig_z[indix,indiy,indiz])*math.e**(-crosswind[indix,indiy,indiz]*2/(2*sig_y[indix,indiy,indiz]*2))* (math.e**(-(Z[indix,indiy,indiz]-stack_height)**2/(2*sig_z[indix,indiy,indiz]*2))+ math.e**(-(Z[indix,indiy,indiz]-stack_height)**2/(2*sig_z[indix,indiy,indiz]**2))))\n"
     ]
    },
    {
     "data": {
      "text/plain": [
       "array([[[2.35795772e-05, 2.44272367e-05, 2.52032211e-05, ...,\n",
       "         8.49197928e-08, 7.56932558e-08, 6.73825319e-08],\n",
       "        [2.36229601e-05, 2.44766061e-05, 2.52582494e-05, ...,\n",
       "         8.11200497e-08, 7.22272605e-08, 6.42259663e-08],\n",
       "        [2.36661583e-05, 2.45258489e-05, 2.53132086e-05, ...,\n",
       "         7.74352750e-08, 6.88699080e-08, 6.11718114e-08],\n",
       "        ...,\n",
       "        [0.00000000e+00, 0.00000000e+00, 0.00000000e+00, ...,\n",
       "         0.00000000e+00, 0.00000000e+00, 0.00000000e+00],\n",
       "        [0.00000000e+00, 0.00000000e+00, 0.00000000e+00, ...,\n",
       "         0.00000000e+00, 0.00000000e+00, 0.00000000e+00],\n",
       "        [0.00000000e+00, 0.00000000e+00, 0.00000000e+00, ...,\n",
       "         0.00000000e+00, 0.00000000e+00, 0.00000000e+00]],\n",
       "\n",
       "       [[2.37490101e-05, 2.46027606e-05, 2.53843208e-05, ...,\n",
       "         8.55299908e-08, 7.62371557e-08, 6.78667145e-08],\n",
       "        [2.37932765e-05, 2.46530771e-05, 2.54403559e-05, ...,\n",
       "         8.17049078e-08, 7.27480035e-08, 6.46890217e-08],\n",
       "        [2.38373631e-05, 2.47032728e-05, 2.54963285e-05, ...,\n",
       "         7.79954543e-08, 6.93681241e-08, 6.16143382e-08],\n",
       "        ...,\n",
       "        [0.00000000e+00, 0.00000000e+00, 0.00000000e+00, ...,\n",
       "         0.00000000e+00, 0.00000000e+00, 0.00000000e+00],\n",
       "        [0.00000000e+00, 0.00000000e+00, 0.00000000e+00, ...,\n",
       "         0.00000000e+00, 0.00000000e+00, 0.00000000e+00],\n",
       "        [0.00000000e+00, 0.00000000e+00, 0.00000000e+00, ...,\n",
       "         0.00000000e+00, 0.00000000e+00, 0.00000000e+00]],\n",
       "\n",
       "       [[2.39196605e-05, 2.47795457e-05, 2.55667219e-05, ...,\n",
       "         8.61445734e-08, 7.67849640e-08, 6.83543763e-08],\n",
       "        [2.39648209e-05, 2.48308205e-05, 2.56237754e-05, ...,\n",
       "         8.22939826e-08, 7.32725009e-08, 6.51554156e-08],\n",
       "        [2.40098065e-05, 2.48819803e-05, 2.56807730e-05, ...,\n",
       "         7.85596860e-08, 6.98699443e-08, 6.20600663e-08],\n",
       "        ...,\n",
       "        [0.00000000e+00, 0.00000000e+00, 0.00000000e+00, ...,\n",
       "         0.00000000e+00, 0.00000000e+00, 0.00000000e+00],\n",
       "        [0.00000000e+00, 0.00000000e+00, 0.00000000e+00, ...,\n",
       "         0.00000000e+00, 0.00000000e+00, 0.00000000e+00],\n",
       "        [0.00000000e+00, 0.00000000e+00, 0.00000000e+00, ...,\n",
       "         0.00000000e+00, 0.00000000e+00, 0.00000000e+00]],\n",
       "\n",
       "       ...,\n",
       "\n",
       "       [[3.49589586e-05, 3.62156942e-05, 3.73661645e-05, ...,\n",
       "         1.25901643e-07, 1.12222428e-07, 9.99009916e-08],\n",
       "        [3.50695988e-05, 3.63368838e-05, 3.74972768e-05, ...,\n",
       "         1.20427228e-07, 1.07225388e-07, 9.53470210e-08],\n",
       "        [3.51805286e-05, 3.64584871e-05, 3.76289234e-05, ...,\n",
       "         1.15110102e-07, 1.02377400e-07, 9.09339247e-08],\n",
       "        ...,\n",
       "        [0.00000000e+00, 0.00000000e+00, 0.00000000e+00, ...,\n",
       "         0.00000000e+00, 0.00000000e+00, 0.00000000e+00],\n",
       "        [0.00000000e+00, 0.00000000e+00, 0.00000000e+00, ...,\n",
       "         0.00000000e+00, 0.00000000e+00, 0.00000000e+00],\n",
       "        [0.00000000e+00, 0.00000000e+00, 0.00000000e+00, ...,\n",
       "         0.00000000e+00, 0.00000000e+00, 0.00000000e+00]],\n",
       "\n",
       "       [[3.47095503e-05, 3.59573200e-05, 3.70995825e-05, ...,\n",
       "         1.25003421e-07, 1.11421797e-07, 9.91882663e-08],\n",
       "        [3.48185644e-05, 3.60767780e-05, 3.72288647e-05, ...,\n",
       "         1.19565189e-07, 1.06457849e-07, 9.46645103e-08],\n",
       "        [3.49278548e-05, 3.61966347e-05, 3.73586648e-05, ...,\n",
       "         1.14283358e-07, 1.01642105e-07, 9.02808186e-08],\n",
       "        ...,\n",
       "        [0.00000000e+00, 0.00000000e+00, 0.00000000e+00, ...,\n",
       "         0.00000000e+00, 0.00000000e+00, 0.00000000e+00],\n",
       "        [0.00000000e+00, 0.00000000e+00, 0.00000000e+00, ...,\n",
       "         0.00000000e+00, 0.00000000e+00, 0.00000000e+00],\n",
       "        [0.00000000e+00, 0.00000000e+00, 0.00000000e+00, ...,\n",
       "         0.00000000e+00, 0.00000000e+00, 0.00000000e+00]],\n",
       "\n",
       "       [[3.44619214e-05, 3.57007891e-05, 3.68349024e-05, ...,\n",
       "         1.24111607e-07, 1.10626879e-07, 9.84806259e-08],\n",
       "        [3.45693270e-05, 3.58185341e-05, 3.69623739e-05, ...,\n",
       "         1.18709320e-07, 1.05695805e-07, 9.39868851e-08],\n",
       "        [3.46769958e-05, 3.59366631e-05, 3.70903472e-05, ...,\n",
       "         1.13462551e-07, 1.00912090e-07, 8.96324033e-08],\n",
       "        ...,\n",
       "        [0.00000000e+00, 0.00000000e+00, 0.00000000e+00, ...,\n",
       "         0.00000000e+00, 0.00000000e+00, 0.00000000e+00],\n",
       "        [0.00000000e+00, 0.00000000e+00, 0.00000000e+00, ...,\n",
       "         0.00000000e+00, 0.00000000e+00, 0.00000000e+00],\n",
       "        [0.00000000e+00, 0.00000000e+00, 0.00000000e+00, ...,\n",
       "         0.00000000e+00, 0.00000000e+00, 0.00000000e+00]]])"
      ]
     },
     "execution_count": 7,
     "metadata": {},
     "output_type": "execute_result"
    }
   ],
   "source": [
    "#CROSSWIND AND GAUSSIAN FORMULA\n",
    "\n",
    "crosswind=np.sin(subtended)*hypotenuse\n",
    "indix,indiy,indiz=np.where((downwind > 0))\n",
    "#print(len(indix),indiy,indiz)\n",
    "print(np.shape(X))\n",
    "#indix][indiy[indiz]=np.where((Z==0) & (downwind > 0))\n",
    "#print(np.shape(indix),np.shape(indiy),np.shape(indiz),np.shape(np.where(downwind > 0)))\n",
    "Concentration= np.zeros(np.shape(downwind))\n",
    "Concentration[indix,indiy,indiz] =(emission_rate/(2*math.pi*windspeed*sig_y[indix,indiy,indiz]*sig_z[indix,indiy,indiz])*math.e**(-crosswind[indix,indiy,indiz]*2/(2*sig_y[indix,indiy,indiz]*2))* (math.e**(-(Z[indix,indiy,indiz]-stack_height)**2/(2*sig_z[indix,indiy,indiz]*2))+ math.e**(-(Z[indix,indiy,indiz]-stack_height)**2/(2*sig_z[indix,indiy,indiz]**2))))\n",
    "(Concentration)\n",
    "#Concentration[indix][indiy][indiz] =np.real(emission_rate/(2*math.pi*windspeed*sig_y[indix][indiy][indiz]*sig_z[indix][indiy][indiz])*math.e**(-crosswind[indix][indiy][indiz]*2/(2*sig_y[indix][indiy][indiz]*2))* (math.e**(-(Z[indix][indiy][indiz]-stack_height)**2/(2*sig_z[indix][indiy][indiz]*2))+ math.e**(-(Z[indix][indiy][indiz]-stack_height)**2/(2*sig_z[indix][indiy][indiz]**2))))\n",
    "#Concentration =emission_rate/(2*math.pi*windspeed*sig_y[indices]*sig_z[indices])*math.e**(-crosswind[indices]**2/(2*sig_y[indices]**2))* (math.e**(-(-stack_height)**2/(2*sig_z[indices]**2))+ math.e**(-(stack_height)**2/(2*sig_z[indices]**2)) )\n",
    "#Concentration=np.real(Concentration)\n",
    "#print(Concentration,np.shape(Concentration),len(x_range)*len(y_range))\n",
    "#maybe way to calculate area of plume over whole facility"
   ]
  },
  {
   "cell_type": "code",
   "execution_count": 12,
   "id": "459fb07f",
   "metadata": {},
   "outputs": [
    {
     "ename": "TypeError",
     "evalue": "pivot() missing 1 required argument: 'columns'",
     "output_type": "error",
     "traceback": [
      "\u001b[1;31m---------------------------------------------------------------------------\u001b[0m",
      "\u001b[1;31mTypeError\u001b[0m                                 Traceback (most recent call last)",
      "\u001b[1;32mc:\\Users\\Karina\\Desktop\\project\\Expo7\\PYTHON\\Project 5 Atttempt 3.ipynb Cell 8\u001b[0m line \u001b[0;36m5\n\u001b[0;32m      <a href='vscode-notebook-cell:/c%3A/Users/Karina/Desktop/project/Expo7/PYTHON/Project%205%20Atttempt%203.ipynb#X10sZmlsZQ%3D%3D?line=2'>3</a>\u001b[0m \u001b[39m#plt.pcolormesh(x_range,y_range,Concentration2D)\u001b[39;00m\n\u001b[0;32m      <a href='vscode-notebook-cell:/c%3A/Users/Karina/Desktop/project/Expo7/PYTHON/Project%205%20Atttempt%203.ipynb#X10sZmlsZQ%3D%3D?line=3'>4</a>\u001b[0m data\u001b[39m=\u001b[39mpd\u001b[39m.\u001b[39mDataFrame(Concentration2D)\n\u001b[1;32m----> <a href='vscode-notebook-cell:/c%3A/Users/Karina/Desktop/project/Expo7/PYTHON/Project%205%20Atttempt%203.ipynb#X10sZmlsZQ%3D%3D?line=4'>5</a>\u001b[0m data_pivoted \u001b[39m=\u001b[39m data\u001b[39m.\u001b[39mpivot(values\u001b[39m=\u001b[39m\u001b[39m\"\u001b[39m\u001b[39mConcentration\u001b[39m\u001b[39m\"\u001b[39m)\n\u001b[0;32m      <a href='vscode-notebook-cell:/c%3A/Users/Karina/Desktop/project/Expo7/PYTHON/Project%205%20Atttempt%203.ipynb#X10sZmlsZQ%3D%3D?line=5'>6</a>\u001b[0m sns\u001b[39m.\u001b[39mheatmap(data_pivoted)\n\u001b[0;32m      <a href='vscode-notebook-cell:/c%3A/Users/Karina/Desktop/project/Expo7/PYTHON/Project%205%20Atttempt%203.ipynb#X10sZmlsZQ%3D%3D?line=6'>7</a>\u001b[0m plt\u001b[39m.\u001b[39mtitle(\u001b[39m\"\u001b[39m\u001b[39mCustom Data Heatmap\u001b[39m\u001b[39m\"\u001b[39m)\n",
      "File \u001b[1;32mc:\\Users\\Karina\\anaconda3\\Lib\\site-packages\\pandas\\util\\_decorators.py:331\u001b[0m, in \u001b[0;36mdeprecate_nonkeyword_arguments.<locals>.decorate.<locals>.wrapper\u001b[1;34m(*args, **kwargs)\u001b[0m\n\u001b[0;32m    325\u001b[0m \u001b[39mif\u001b[39;00m \u001b[39mlen\u001b[39m(args) \u001b[39m>\u001b[39m num_allow_args:\n\u001b[0;32m    326\u001b[0m     warnings\u001b[39m.\u001b[39mwarn(\n\u001b[0;32m    327\u001b[0m         msg\u001b[39m.\u001b[39mformat(arguments\u001b[39m=\u001b[39m_format_argument_list(allow_args)),\n\u001b[0;32m    328\u001b[0m         \u001b[39mFutureWarning\u001b[39;00m,\n\u001b[0;32m    329\u001b[0m         stacklevel\u001b[39m=\u001b[39mfind_stack_level(),\n\u001b[0;32m    330\u001b[0m     )\n\u001b[1;32m--> 331\u001b[0m \u001b[39mreturn\u001b[39;00m func(\u001b[39m*\u001b[39margs, \u001b[39m*\u001b[39m\u001b[39m*\u001b[39mkwargs)\n",
      "File \u001b[1;32mc:\\Users\\Karina\\anaconda3\\Lib\\site-packages\\pandas\\core\\frame.py:8567\u001b[0m, in \u001b[0;36mDataFrame.pivot\u001b[1;34m(self, index, columns, values)\u001b[0m\n\u001b[0;32m   8561\u001b[0m \u001b[39m@Substitution\u001b[39m(\u001b[39m\"\u001b[39m\u001b[39m\"\u001b[39m)\n\u001b[0;32m   8562\u001b[0m \u001b[39m@Appender\u001b[39m(_shared_docs[\u001b[39m\"\u001b[39m\u001b[39mpivot\u001b[39m\u001b[39m\"\u001b[39m])\n\u001b[0;32m   8563\u001b[0m \u001b[39m@deprecate_nonkeyword_arguments\u001b[39m(version\u001b[39m=\u001b[39m\u001b[39mNone\u001b[39;00m, allowed_args\u001b[39m=\u001b[39m[\u001b[39m\"\u001b[39m\u001b[39mself\u001b[39m\u001b[39m\"\u001b[39m])\n\u001b[0;32m   8564\u001b[0m \u001b[39mdef\u001b[39;00m \u001b[39mpivot\u001b[39m(\u001b[39mself\u001b[39m, index\u001b[39m=\u001b[39m\u001b[39mNone\u001b[39;00m, columns\u001b[39m=\u001b[39m\u001b[39mNone\u001b[39;00m, values\u001b[39m=\u001b[39m\u001b[39mNone\u001b[39;00m) \u001b[39m-\u001b[39m\u001b[39m>\u001b[39m DataFrame:\n\u001b[0;32m   8565\u001b[0m     \u001b[39mfrom\u001b[39;00m \u001b[39mpandas\u001b[39;00m\u001b[39m.\u001b[39;00m\u001b[39mcore\u001b[39;00m\u001b[39m.\u001b[39;00m\u001b[39mreshape\u001b[39;00m\u001b[39m.\u001b[39;00m\u001b[39mpivot\u001b[39;00m \u001b[39mimport\u001b[39;00m pivot\n\u001b[1;32m-> 8567\u001b[0m     \u001b[39mreturn\u001b[39;00m pivot(\u001b[39mself\u001b[39m, index\u001b[39m=\u001b[39mindex, columns\u001b[39m=\u001b[39mcolumns, values\u001b[39m=\u001b[39mvalues)\n",
      "File \u001b[1;32mc:\\Users\\Karina\\anaconda3\\Lib\\site-packages\\pandas\\util\\_decorators.py:331\u001b[0m, in \u001b[0;36mdeprecate_nonkeyword_arguments.<locals>.decorate.<locals>.wrapper\u001b[1;34m(*args, **kwargs)\u001b[0m\n\u001b[0;32m    325\u001b[0m \u001b[39mif\u001b[39;00m \u001b[39mlen\u001b[39m(args) \u001b[39m>\u001b[39m num_allow_args:\n\u001b[0;32m    326\u001b[0m     warnings\u001b[39m.\u001b[39mwarn(\n\u001b[0;32m    327\u001b[0m         msg\u001b[39m.\u001b[39mformat(arguments\u001b[39m=\u001b[39m_format_argument_list(allow_args)),\n\u001b[0;32m    328\u001b[0m         \u001b[39mFutureWarning\u001b[39;00m,\n\u001b[0;32m    329\u001b[0m         stacklevel\u001b[39m=\u001b[39mfind_stack_level(),\n\u001b[0;32m    330\u001b[0m     )\n\u001b[1;32m--> 331\u001b[0m \u001b[39mreturn\u001b[39;00m func(\u001b[39m*\u001b[39margs, \u001b[39m*\u001b[39m\u001b[39m*\u001b[39mkwargs)\n",
      "File \u001b[1;32mc:\\Users\\Karina\\anaconda3\\Lib\\site-packages\\pandas\\core\\reshape\\pivot.py:496\u001b[0m, in \u001b[0;36mpivot\u001b[1;34m(data, index, columns, values)\u001b[0m\n\u001b[0;32m    486\u001b[0m \u001b[39m@Substitution\u001b[39m(\u001b[39m\"\u001b[39m\u001b[39m\\n\u001b[39;00m\u001b[39mdata : DataFrame\u001b[39m\u001b[39m\"\u001b[39m)\n\u001b[0;32m    487\u001b[0m \u001b[39m@Appender\u001b[39m(_shared_docs[\u001b[39m\"\u001b[39m\u001b[39mpivot\u001b[39m\u001b[39m\"\u001b[39m], indents\u001b[39m=\u001b[39m\u001b[39m1\u001b[39m)\n\u001b[0;32m    488\u001b[0m \u001b[39m@deprecate_nonkeyword_arguments\u001b[39m(version\u001b[39m=\u001b[39m\u001b[39mNone\u001b[39;00m, allowed_args\u001b[39m=\u001b[39m[\u001b[39m\"\u001b[39m\u001b[39mdata\u001b[39m\u001b[39m\"\u001b[39m])\n\u001b[1;32m   (...)\u001b[0m\n\u001b[0;32m    493\u001b[0m     values: IndexLabel \u001b[39m|\u001b[39m \u001b[39mNone\u001b[39;00m \u001b[39m=\u001b[39m \u001b[39mNone\u001b[39;00m,\n\u001b[0;32m    494\u001b[0m ) \u001b[39m-\u001b[39m\u001b[39m>\u001b[39m DataFrame:\n\u001b[0;32m    495\u001b[0m     \u001b[39mif\u001b[39;00m columns \u001b[39mis\u001b[39;00m \u001b[39mNone\u001b[39;00m:\n\u001b[1;32m--> 496\u001b[0m         \u001b[39mraise\u001b[39;00m \u001b[39mTypeError\u001b[39;00m(\u001b[39m\"\u001b[39m\u001b[39mpivot() missing 1 required argument: \u001b[39m\u001b[39m'\u001b[39m\u001b[39mcolumns\u001b[39m\u001b[39m'\u001b[39m\u001b[39m\"\u001b[39m)\n\u001b[0;32m    498\u001b[0m     columns_listlike \u001b[39m=\u001b[39m com\u001b[39m.\u001b[39mconvert_to_list_like(columns)\n\u001b[0;32m    500\u001b[0m     indexed: DataFrame \u001b[39m|\u001b[39m Series\n",
      "\u001b[1;31mTypeError\u001b[0m: pivot() missing 1 required argument: 'columns'"
     ]
    }
   ],
   "source": [
    "#PLOTTING IN 2D\n",
    "Concentration2D=Concentration[:, :, 0]\n",
    "plt.pcolormesh(x_range,y_range,Concentration2D)\n"
   ]
  },
  {
   "cell_type": "code",
   "execution_count": null,
   "id": "5930a654",
   "metadata": {},
   "outputs": [],
   "source": [
    "data=pd.DataFrame(Concentration2D)\n",
    "data_pivoted = data.pivot(values=\"Concentration\")\n",
    "sns.heatmap(data_pivoted)\n",
    "plt.title(\"Custom Data Heatmap\")\n",
    "plt.show()"
   ]
  },
  {
   "cell_type": "code",
   "execution_count": null,
   "id": "7f892712",
   "metadata": {},
   "outputs": [],
   "source": []
  }
 ],
 "metadata": {
  "kernelspec": {
   "display_name": "Python 3 (ipykernel)",
   "language": "python",
   "name": "python3"
  },
  "language_info": {
   "codemirror_mode": {
    "name": "ipython",
    "version": 3
   },
   "file_extension": ".py",
   "mimetype": "text/x-python",
   "name": "python",
   "nbconvert_exporter": "python",
   "pygments_lexer": "ipython3",
   "version": "3.11.4"
  }
 },
 "nbformat": 4,
 "nbformat_minor": 5
}
