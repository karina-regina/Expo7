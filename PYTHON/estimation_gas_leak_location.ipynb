{
 "cells": [
  {
   "cell_type": "code",
   "execution_count": null,
   "metadata": {},
   "outputs": [],
   "source": []
  },
  {
   "cell_type": "code",
   "execution_count": null,
   "metadata": {},
   "outputs": [],
   "source": []
  },
  {
   "cell_type": "code",
   "execution_count": 36,
   "metadata": {},
   "outputs": [
    {
     "data": {
      "text/plain": [
       "(array([46.5, 42.5, 38.5, 34.5, 30.5, 26.5]),\n",
       " array([18. , 18.5, 19. , 19.5, 20. , 20.5]))"
      ]
     },
     "execution_count": 36,
     "metadata": {},
     "output_type": "execute_result"
    }
   ],
   "source": [
    "ac=[[46.5, 18.0], [42.5, 18.5], [38.5, 19.0], [34.5, 19.5], [30.5, 20.0], [26.5, 20.5]] \n",
    "x_values,y_values = np.array(ac)[:,0],np.array(ac)[:,1]\n",
    "x_values, y_values"
   ]
  },
  {
   "cell_type": "markdown",
   "metadata": {},
   "source": [
    "np.tan(np.pi/2)"
   ]
  },
  {
   "cell_type": "code",
   "execution_count": 37,
   "metadata": {},
   "outputs": [
    {
     "name": "stdout",
     "output_type": "stream",
     "text": [
      "f = 20.0 , g = 0.0 , h = 7.0 , Q = 1.7885869047439589\n"
     ]
    }
   ],
   "source": [
    "import numpy as np\n",
    "from scipy.optimize import curve_fit\n",
    "import matplotlib.pyplot as plt\n",
    "import sympy as sym\n",
    "from itertools import product\n",
    "coords=[[46.5, 18.0], [42.5, 18.5], [38.5, 19.0], [34.5, 19.5], [30.5, 20.0], [26.5, 20.5]] \n",
    "C = np.array([0.0011108741723468401, 0.0011823378868119714, 0.0012361214279843072, 0.0012658992872256142, 0.001283704410993905, 0.0012507918336789668])\n",
    "v = np.array([-46.5, 42.5, 38.5, 34.5, 30.5, 26.5])\n",
    "w = np.array([18.0, 18.5, 19.0, 19.5, 20.0, 20.5])\n",
    "windspeed = np.zeros(np.size(v))+3\n",
    "y = np.zeros(np.size(v))\n",
    "stability =np.zeros(np.size(v))+4\n",
    "x = v, w, y, windspeed, stability\n",
    "\n",
    "def func(data, f, g, h, Q):\n",
    "    v, w, y, windspeed, stability = data\n",
    "    stability=stability[0]\n",
    "    stability_values= {1 : (122.8,0.94470,24.1670,2.5334),\n",
    "                2: (90.673, 0.93198, 18.3330, 1.8096),\n",
    "                3: (61.141, 0.91465, 12.5, 1.0857),\n",
    "                4: (34.459, 0.86974, 8.3330, 0.72382),\n",
    "                5: (24.26, 0.83660, 6.25, 0.54287),\n",
    "                6: (15.209, 0.81558, 4.1667, 0.36191)\n",
    "                }\n",
    "    P_a,P_b,P_c,P_d=(stability_values[stability][0]),(stability_values[stability][1]),(stability_values[stability][2]),(stability_values[stability][3])\n",
    "    distance = np.sqrt((v - f)**2 + (w - g)**2)\n",
    "    theta = 0.017453293 * (P_c - P_d * np.log(distance/1000))\n",
    "    sigma_y = 465.11628 * (distance / 1000) * np.tan(theta)\n",
    "    sigma_z = P_a * (distance / 1000)**P_b\n",
    "    first_fracture = Q / (2 * np.pi * windspeed * sigma_y * sigma_z)\n",
    "    exp_arg_z1 = -(-h)**2 / (2 * sigma_z**2)\n",
    "    exp_arg_z2 = -(h)**2 / (2 * sigma_z**2)\n",
    "    exp_arg_y = -(y)**2 / (2 * sigma_y**2)\n",
    "    eq = first_fracture * (np.exp(exp_arg_z1) + np.exp(exp_arg_z2)) * np.exp(exp_arg_y)\n",
    "\n",
    "    return eq\n",
    "\n",
    "solution = [0, 0, 0, 0]\n",
    "best_guess = 100000\n",
    "\n",
    "for f, g, h, q in product(range(0,21), range(0,2), range(8), range(2)):\n",
    "    p0 = [f, g, h, q]\n",
    "    guess, _ = curve_fit(func, x, C, p0, maxfev=100000, method='dogbox')\n",
    "    new_guess = sum(abs(p - opt) for p, opt in zip(p0, guess))\n",
    "    if new_guess < best_guess:\n",
    "        best_guess, solution = new_guess, guess\n",
    "\n",
    "print('f =', solution[0], ',', 'g =', solution[1], ',', 'h =', solution[2], ',', 'Q =', solution[3])\n"
   ]
  },
  {
   "cell_type": "code",
   "execution_count": 182,
   "metadata": {},
   "outputs": [
    {
     "name": "stderr",
     "output_type": "stream",
     "text": [
      "C:\\Users\\danin\\AppData\\Local\\Temp\\ipykernel_11316\\3069108784.py:55: RuntimeWarning: invalid value encountered in divide\n",
      "  subtended=np.arccos(dot_product/(magnitudes))\n",
      "C:\\Users\\danin\\AppData\\Local\\Temp\\ipykernel_11316\\3069108784.py:78: RuntimeWarning: invalid value encountered in log\n",
      "  theta=0.017453293*(P_c-P_d*np.log((downwindimag/1000)))\n",
      "C:\\Users\\danin\\AppData\\Local\\Temp\\ipykernel_11316\\3069108784.py:86: RuntimeWarning: invalid value encountered in power\n",
      "  Concentration[indix,indiy,indiz] =((emission_rate/(2*math.pi*windspeed*sig_y[indix,indiy,indiz]*sig_z[indix,indiy,indiz]))*(math.e**(-crosswind[indix,indiy,indiz]**2/(2*sig_y[indix,indiy,indiz]**2))* (math.e**(-(Z[indix,indiy,indiz]-stack_height)**2/(2*sig_z[indix,indiy,indiz]**2))+ math.e**(-(Z[indix,indiy,indiz]+stack_height)**2/(2*sig_z[indix,indiy,indiz]**2)))))\n",
      "C:\\Users\\danin\\AppData\\Local\\Temp\\ipykernel_11316\\3069108784.py:86: ComplexWarning: Casting complex values to real discards the imaginary part\n",
      "  Concentration[indix,indiy,indiz] =((emission_rate/(2*math.pi*windspeed*sig_y[indix,indiy,indiz]*sig_z[indix,indiy,indiz]))*(math.e**(-crosswind[indix,indiy,indiz]**2/(2*sig_y[indix,indiy,indiz]**2))* (math.e**(-(Z[indix,indiy,indiz]-stack_height)**2/(2*sig_z[indix,indiy,indiz]**2))+ math.e**(-(Z[indix,indiy,indiz]+stack_height)**2/(2*sig_z[indix,indiy,indiz]**2)))))\n"
     ]
    }
   ],
   "source": [
    "from scipy.ndimage import rotate, shift\n",
    "import numpy as np\n",
    "import matplotlib.pyplot as plt\n",
    "from mpl_toolkits.mplot3d import Axes3D\n",
    "import matplotlib as mpl\n",
    "from sklearn.linear_model import LinearRegression\n",
    "import scipy.stats as sp\n",
    "import pandas as pd\n",
    "import statsmodels.api as sm\n",
    "import math\n",
    "import cmath\n",
    "import seaborn as sns\n",
    "from sympy import symbols, solve, Eq\n",
    "\n",
    "DataDict= {'Crosswind':[],'Distance On Centerline':[],'Negative Gradient':[],'Positive Gradient':[],'Stability Class':[]}\n",
    "\n",
    "np.random.seed(488)\n",
    "for Stability_Iteration in range(1,7):\n",
    "    for Iteration in range(30):\n",
    "        #INPUT FOR GAS PLUME\n",
    "        #set from 1-6\n",
    "        stability = Stability_Iteration                                                                                    \n",
    "        #Origin Coordinates Of Plume\n",
    "        angle= np.random.uniform(0, 2 * np.pi)\n",
    "        stack_x = 0#np.random.uniform(0, 51) * np.cos(angle)\n",
    "        stack_y = -50#np.random.uniform(0, 51) * np.sin(angle)\n",
    "        stack_height = 1#np.random.randint(1,11) \n",
    "        emission_rate = np.random.randint(10,21)                                                                 \n",
    "        windspeed= 345 #np.random.randint(1,26)\n",
    "        #Wind Angle In Degrees\n",
    "        wind_direction= np.pi #np.random.uniform(0, 2*np.pi - 1e-5)\n",
    "\n",
    "        #INPUT FOR ALGORITHM\n",
    "\n",
    "        #GRID & STEPSIZE CALCULATION \n",
    "\n",
    "        x_range=np.arange(-100,101,0.5)\n",
    "        y_range=np.arange(-100,101,0.5)\n",
    "        z_range=np.arange(0,51,0.5)\n",
    "        #It Turns Each Into 3D-Arrays For Calculations In All 3 Axis\n",
    "        X,Y,Z = np.meshgrid(x_range,y_range,z_range)\n",
    "\n",
    "        #WIND RELATED CALCULATIONS\n",
    "\n",
    "        #For Future (height_slice_direction= math.atan2(measured_y - stack_y, measured_x - stack_x) *(180/(math.pi)))\n",
    "        #3D-Arrays For Distance Between Coordinate & Origin\n",
    "        x_origin=X-stack_x\n",
    "        y_origin=Y-stack_y\n",
    "\n",
    "        wind_xcomponent=windspeed*math.sin(wind_direction-np.pi)\n",
    "        wind_ycomponent=windspeed*math.cos(wind_direction-np.pi)\n",
    "\n",
    "        dot_product=wind_xcomponent*x_origin+wind_ycomponent*y_origin\n",
    "        magnitudes= windspeed*((x_origin**2)+(y_origin**2))**0.5\n",
    "        subtended=np.arccos(dot_product/(magnitudes))\n",
    "        hypotenuse=((x_origin**2)+(y_origin**2))**0.5\n",
    "        #Downwind Is X Of Gaussian Plume Formula \n",
    "        downwind=np.cos(subtended)*hypotenuse\n",
    "        #Turns It Into Complex Format To Make Correct Calculations Later On.\n",
    "        downwindimag=np.vectorize(complex)(downwind.real, downwind.imag)\n",
    "\n",
    "        #PASQUILL CONSTANTS & SIGMA CALCULATION\n",
    "\n",
    "        #Pasquill Constants Found In Resources\n",
    "        stability_class= {1 : (122.8,0.94470,24.1670,2.5334),\n",
    "                        2: (90.673, 0.93198, 18.3330, 1.8096),\n",
    "                        3: (61.141, 0.91465, 12.5, 1.0857),\n",
    "                        4: (34.459, 0.86974, 8.3330, 0.72382),\n",
    "                        5: (24.26, 0.83660, 6.25, 0.54287),\n",
    "                        6: (15.209, 0.81558, 4.1667, 0.36191)\n",
    "                        }\n",
    "        P_a=stability_class[stability][0] \n",
    "        P_b=stability_class[stability][1]\n",
    "        P_c=stability_class[stability][2]\n",
    "        P_d=stability_class[stability][3]\n",
    "        sig_z = P_a*(abs((downwind/1000))**P_b)\n",
    "        sig_z[sig_z > 5000] = 5000\n",
    "        theta=0.017453293*(P_c-P_d*np.log((downwindimag/1000)))\n",
    "        sig_y=(465.11628*downwind/1000)*np.tan(theta)\n",
    "\n",
    "        #CROSSWIND AND GAUSSIAN FORMULA\n",
    "\n",
    "        crosswind=np.sin(subtended)*hypotenuse\n",
    "        indix,indiy,indiz=np.where((downwind > 0))\n",
    "        Concentration= np.zeros(np.shape(downwind))\n",
    "        Concentration[indix,indiy,indiz] =((emission_rate/(2*math.pi*windspeed*sig_y[indix,indiy,indiz]*sig_z[indix,indiy,indiz]))*(math.e**(-crosswind[indix,indiy,indiz]**2/(2*sig_y[indix,indiy,indiz]**2))* (math.e**(-(Z[indix,indiy,indiz]-stack_height)**2/(2*sig_z[indix,indiy,indiz]**2))+ math.e**(-(Z[indix,indiy,indiz]+stack_height)**2/(2*sig_z[indix,indiy,indiz]**2)))))\n",
    "        #Prevents Issues Regarding Algorithm And Measurements\n",
    "        Concentration2D=(Concentration[:,:, 0])\n",
    "        Concentration[Concentration < 3e-5] = 0\n",
    "\n",
    "        Concentration_At_MeasurementForX= []\n",
    "        Concentration_At_MeasurementForY= []\n",
    "        Measurement_Points=[] \n",
    "        Measurement_Points_Y=[]\n",
    "\n",
    "        rand_sim_step2=np.random.uniform(-50,100)\n",
    "        \n",
    "        for i in range(-100+np.random.randint(0,10),101,5):\n",
    "            Measurement_Points_Y.append([i,rand_sim_step2])\n",
    "        for XYCoordinate in Measurement_Points_Y:\n",
    "            Concentration_At_MeasurementForY.append(Concentration2D[(200+ round(XYCoordinate[1]*2)),(200+ round(XYCoordinate[0]*2))])\n",
    "        while len(np.array(Concentration_At_MeasurementForY)[np.where(np.array(Concentration_At_MeasurementForY) > 0)]) < 2:\n",
    "            rand_sim_step2=np.random.uniform(-50,100)\n",
    "            Concentration_At_MeasurementForY=[]\n",
    "            for i in range(-100+np.random.randint(0,10),101,5):\n",
    "                Measurement_Points_Y.append([i,rand_sim_step2])\n",
    "            for XYCoordinate in Measurement_Points_Y:\n",
    "                Concentration_At_MeasurementForY.append(Concentration2D[(200+ round(XYCoordinate[1]*2)),(200+ round(XYCoordinate[0]*2))])\n",
    "        Concentration_At_MeasurementForY=[]\n",
    "\n",
    "        for i in range(-100,101,4):\n",
    "            Measurement_Points.append([0,i])\n",
    "        for i in range(-100+np.random.randint(0,10),101,5):\n",
    "            Measurement_Points_Y.append([i,rand_sim_step2])\n",
    "        Concentration_At_MeasurementForX=[]\n",
    "        for XYCoordinate in Measurement_Points:\n",
    "            Concentration_At_MeasurementForX.append(Concentration2D[(200+ round(XYCoordinate[1]*2)),(200+ round(XYCoordinate[0]*2))])\n",
    "\n",
    "        for XYCoordinate in Measurement_Points_Y:\n",
    "            Concentration_At_MeasurementForY.append(Concentration2D[(200+ round(XYCoordinate[1]*2)),(200+ round(XYCoordinate[0]*2))])\n",
    "\n",
    "        Crosswind=(np.array(Measurement_Points_Y)[np.where(np.array(Concentration_At_MeasurementForY) > 0)][-1]-np.array(Measurement_Points_Y)[np.where(np.array(Concentration_At_MeasurementForY) > 0)][0])[0]\n",
    "        dist_cent=abs(Measurement_Points[Concentration_At_MeasurementForX.index(max(Concentration_At_MeasurementForX))][1]-rand_sim_step2)\n",
    "        val=np.array(Concentration_At_MeasurementForX)[[Concentration_At_MeasurementForX.index(max(Concentration_At_MeasurementForX))-1,Concentration_At_MeasurementForX.index(max(Concentration_At_MeasurementForX)),Concentration_At_MeasurementForX.index(max(Concentration_At_MeasurementForX))+1]],[item[1] for item in np.array(Measurement_Points)[[Concentration_At_MeasurementForX.index(max(Concentration_At_MeasurementForX))-1,Concentration_At_MeasurementForX.index(max(Concentration_At_MeasurementForX)),Concentration_At_MeasurementForX.index(max(Concentration_At_MeasurementForX))+1]]]\n",
    "        pos_grad,neg_grad=(val[0][1]-val[0][0])/(val[1][1]-val[1][0]),(val[0][2]-val[0][1])/(val[1][2]-val[1][1])\n",
    "\n",
    "        DataDict['Crosswind'].append(Crosswind)\n",
    "        DataDict['Distance On Centerline'].append(dist_cent)\n",
    "        DataDict['Negative Gradient'].append(neg_grad)\n",
    "        DataDict['Positive Gradient'].append(pos_grad)\n",
    "        DataDict['Stability Class'].append(Stability_Iteration)"
   ]
  },
  {
   "cell_type": "code",
   "execution_count": 271,
   "metadata": {},
   "outputs": [
    {
     "name": "stdout",
     "output_type": "stream",
     "text": [
      "[0, -1] [0, 1] [0, 2]\n"
     ]
    },
    {
     "data": {
      "image/png": "[encoded data removed]",
      "text/plain": [
       "<Figure size 640x480 with 1 Axes>"
      ]
     },
     "metadata": {},
     "output_type": "display_data"
    }
   ],
   "source": [
    "theta=np.pi/3\n",
    "a=np.array([[math.cos(theta), -math.sin(theta)],[math.sin(theta), math.cos(theta)]]) @ [0, -1]\n",
    "b=np.array([[math.cos(theta), -math.sin(theta)],[math.sin(theta), math.cos(theta)]]) @[0,1]\n",
    "c=np.array([[math.cos(theta), -math.sin(theta)],[math.sin(theta), math.cos(theta)]]) @ [0, 2]\n",
    "\n",
    "theta=-np.pi/3\n",
    "a=np.array([[math.cos(theta), -math.sin(theta)],[math.sin(theta), math.cos(theta)]]) @ a\n",
    "b=np.array([[math.cos(theta), -math.sin(theta)],[math.sin(theta), math.cos(theta)]]) @b\n",
    "c=np.array([[math.cos(theta), -math.sin(theta)],[math.sin(theta), math.cos(theta)]]) @ c\n",
    "\n",
    "plt.scatter([round(a[0],2),round(b[0],2),round(c[0],2)],[round(a[1],2),round(b[1],2),round(c[1],2)])\n",
    "print([0, -1],[0,1], [0, 2])"
   ]
  },
  {
   "cell_type": "code",
   "execution_count": 322,
   "metadata": {},
   "outputs": [
    {
     "data": {
      "text/plain": [
       "[0,\n",
       " 14.212670403551895,\n",
       " 46.040331329230995,\n",
       " 95.040331329231,\n",
       " 111.68364830632423,\n",
       " 166.24553976913919,\n",
       " 216.24553976913919,\n",
       " 217.24553976913919]"
      ]
     },
     "execution_count": 322,
     "metadata": {},
     "output_type": "execute_result"
    }
   ],
   "source": [
    "pd.DataFrame(DataDict).to_excel('LDA_Data.xlsx')\n",
    "theta= np.tan((-17.5 - -19.5)/(-64.5 - -61))\n",
    "np.array([[np.cos(theta), -np.sin(theta)],[np.sin(theta), np.cos(theta)]]) @ [1,1]\n",
    "Crosswind_list_copy=[[0,1],[-23,23],[-32,12],[9,36],[50,50],[50,0],[0,50],[50,51]]\n",
    "Crosswind_list=[[0,1],[-23,23],[-32,12],[9,36],[50,50],[50,0],[0,50],[50,51]]\n",
    "concen = [1,2,3,4,5,6,7,8]\n",
    "indices=[]\n",
    "distance=[0]\n",
    "Crosswind_list=sorted(Crosswind_list)\n",
    "for i in range(len(Crosswind_list)-1):\n",
    "    distance.append(distance[-1]+math.dist(Crosswind_list[i],Crosswind_list[i+1]))\n",
    "distance"
   ]
  },
  {
   "cell_type": "code",
   "execution_count": 336,
   "metadata": {},
   "outputs": [],
   "source": [
    "Crosswind=(np.array(Measurement_Points_Y)[np.where(np.array(Concentration_At_MeasurementForY) > 3e-5)][-1]-np.array(Measurement_Points_Y)[np.where(np.array(Concentration_At_MeasurementForY) > 3e-5)][0])[0]\n",
    "abs(Measurement_Points[Concentration_At_MeasurementForX.index(max(Concentration_At_MeasurementForX))][1]-rand_sim_step2)\n",
    "from sklearn.discriminant_analysis import LinearDiscriminantAnalysis\n",
    "LDA_Data=pd.read_excel('LDA_Data.xlsx')\n",
    "x_cols = ['Crosswind', 'Distance On Centerline', 'Negative Gradient','Positive Gradient']\n",
    "model = LinearDiscriminantAnalysis(solver='lsqr').fit(LDA_Data[x_cols], LDA_Data['Stability Class'])\n"
   ]
  },
  {
   "cell_type": "code",
   "execution_count": 77,
   "metadata": {},
   "outputs": [
    {
     "data": {
      "image/png": "[encoded data removed]",
      "text/plain": [
       "<Figure size 640x480 with 1 Axes>"
      ]
     },
     "metadata": {},
     "output_type": "display_data"
    },
    {
     "name": "stdout",
     "output_type": "stream",
     "text": [
      "Fitted Weibull Parameter:\n",
      "Scale parameter (lambda): 44.748022911039584\n"
     ]
    }
   ],
   "source": [
    "import numpy as np\n",
    "from scipy.optimize import curve_fit\n",
    "import matplotlib.pyplot as plt\n",
    "\n",
    "# Your data\n",
    "x = np.array([item[1] for item in Measurement_Points]) + 100\n",
    "y = np.array(Concentration_At_MeasurementForX) * 10\n",
    "\n",
    "k = 2  # Shape parameter known\n",
    "\n",
    "# Define the Weibull PDF function\n",
    "def weibull_pdf(x, scale):\n",
    "    if isinstance(x, (int, float)):\n",
    "        x = np.array([x])\n",
    "    \n",
    "    y = (k / scale) * (x / scale)**(k - 1) * np.exp(-(x / scale)**k)\n",
    "    \n",
    "    return y\n",
    "# Fit the Weibull distribution to the PDF of the data\n",
    "params, covariance = curve_fit(weibull_pdf, x, y, p0=[111])  # Initial guess for the scale parameter\n",
    "\n",
    "# Extract the fitted parameters\n",
    "scale = params[0]\n",
    "\n",
    "# Plot the original data\n",
    "plt.scatter(x, y, label='Original Data')\n",
    "\n",
    "# Plot the fitted Weibull distribution PDF\n",
    "x_fit = np.linspace(min(x), max(x), 1000)\n",
    "y_fit = weibull_pdf(x_fit, scale)\n",
    "plt.plot(x_fit, y_fit, label='Fitted Weibull Distribution PDF', color='red')\n",
    "\n",
    "plt.legend()\n",
    "plt.show()\n",
    "\n",
    "print(\"Fitted Weibull Parameter:\")\n",
    "print(f\"Scale parameter (lambda): {scale}\")"
   ]
  },
  {
   "cell_type": "code",
   "execution_count": null,
   "metadata": {},
   "outputs": [],
   "source": []
  },
  {
   "cell_type": "code",
   "execution_count": 79,
   "metadata": {},
   "outputs": [
    {
     "name": "stderr",
     "output_type": "stream",
     "text": [
      "C:\\Users\\danin\\AppData\\Local\\Temp\\ipykernel_25816\\532314592.py:18: RuntimeWarning: divide by zero encountered in log\n",
      "  theta = np.radians(c - d * np.log(x / 1000))\n",
      "C:\\Users\\danin\\AppData\\Local\\Temp\\ipykernel_25816\\532314592.py:19: RuntimeWarning: invalid value encountered in tan\n",
      "  sy = 465.11628 * (x / 1000) * np.tan(theta)\n",
      "C:\\Users\\danin\\AppData\\Local\\Temp\\ipykernel_25816\\532314592.py:23: RuntimeWarning: divide by zero encountered in divide\n",
      "  np.exp(- (z_or - h) ** 2 / (2 * sz ** 2)) +\n",
      "C:\\Users\\danin\\AppData\\Local\\Temp\\ipykernel_25816\\532314592.py:24: RuntimeWarning: divide by zero encountered in divide\n",
      "  np.exp(- (z_or + h) ** 2 / (2 * sz ** 2))\n",
      "C:\\Users\\danin\\AppData\\Local\\Temp\\ipykernel_25816\\532314592.py:18: RuntimeWarning: invalid value encountered in log\n",
      "  theta = np.radians(c - d * np.log(x / 1000))\n",
      "C:\\Users\\danin\\AppData\\Local\\Temp\\ipykernel_25816\\532314592.py:20: RuntimeWarning: invalid value encountered in power\n",
      "  sz = np.minimum(a * (x / 1000) ** b, 5000)\n"
     ]
    },
    {
     "data": {
      "image/png": "[encoded data removed]",
      "text/plain": [
       "<Figure size 640x480 with 1 Axes>"
      ]
     },
     "metadata": {},
     "output_type": "display_data"
    },
    {
     "name": "stdout",
     "output_type": "stream",
     "text": [
      "Fitted Parameters: [ 4.14171944e+00 -1.32716054e+00  1.26233631e-05]\n"
     ]
    }
   ],
   "source": [
    "import numpy as np\n",
    "import matplotlib.pyplot as plt\n",
    "from scipy.optimize import curve_fit\n",
    "\n",
    "def cGP(x_or, Qu, x_leak, h):\n",
    "    y_or = 0\n",
    "    y_leak = 0\n",
    "    z_or = 1\n",
    "\n",
    "    x = x_or - x_leak\n",
    "    y = y_or - y_leak\n",
    "\n",
    "    a = 90.673\n",
    "    b = 0.93198\n",
    "    c = 18.3330\n",
    "    d = 1.8096\n",
    "\n",
    "    theta = np.radians(c - d * np.log(x / 1000))\n",
    "    sy = 465.11628 * (x / 1000) * np.tan(theta)\n",
    "    sz = np.minimum(a * (x / 1000) ** b, 5000)\n",
    "\n",
    "    c = (Qu / (2 * np.pi * sy * sz)) * (\n",
    "            np.exp(- (z_or - h) ** 2 / (2 * sz ** 2)) +\n",
    "            np.exp(- (z_or + h) ** 2 / (2 * sz ** 2))\n",
    "    ) * np.exp(-y ** 2 / (2 * sy ** 2))\n",
    "\n",
    "    return c\n",
    "\n",
    "# Synthetic data generation\n",
    "xMeas = np.linspace(1, 100, 8)\n",
    "b = np.array([10, -5, 3])\n",
    "cEx = cGP(xMeas, *b)\n",
    "\n",
    "rPert = 0.0\n",
    "np.random.seed(15)\n",
    "cPert = rPert * cEx * np.random.randn(len(cEx))\n",
    "cMeas = cEx + cPert\n",
    "\n",
    "# Plotting\n",
    "plt.plot(xMeas, cMeas, 'bo', label='Measured Data')\n",
    "xPlot = np.linspace(b[1], b[1] + 100, 1200)\n",
    "plt.plot(xPlot, cGP(xPlot, *b), 'r', label='True Concentration')\n",
    "plt.grid(True)\n",
    "\n",
    "# Optimization using curve_fit\n",
    "beta0 = [3.0, 0.3, 0.5]\n",
    "beta_fit, _ = curve_fit(cGP, xMeas, cMeas, p0=beta0)\n",
    "\n",
    "# Plotting the fitted curve\n",
    "plt.plot(xPlot, cGP(xPlot, *beta_fit), 'b--', label='Fitted Concentration')\n",
    "plt.legend()\n",
    "plt.show()\n",
    "\n",
    "print(\"Fitted Parameters:\", beta_fit)\n"
   ]
  },
  {
   "cell_type": "code",
   "execution_count": null,
   "metadata": {},
   "outputs": [],
   "source": []
  }
 ],
 "metadata": {
  "kernelspec": {
   "display_name": "base",
   "language": "python",
   "name": "python3"
  },
  "language_info": {
   "codemirror_mode": {
    "name": "ipython",
    "version": 3
   },
   "file_extension": ".py",
   "mimetype": "text/x-python",
   "name": "python",
   "nbconvert_exporter": "python",
   "pygments_lexer": "ipython3",
   "version": "3.11.5"
  },
  "orig_nbformat": 4
 },
 "nbformat": 4,
 "nbformat_minor": 2
}
