{
 "cells": [
  {
   "cell_type": "code",
   "execution_count": 419,
   "metadata": {},
   "outputs": [
    {
     "data": {
      "text/plain": [
       "[0,\n",
       " 250.61574172425802,\n",
       " 627.0758358909573,\n",
       " 1047.201653355202,\n",
       " 1248.3390442103089,\n",
       " 1453.5785384603191]"
      ]
     },
     "execution_count": 419,
     "metadata": {},
     "output_type": "execute_result"
    }
   ],
   "source": [
    "ac=[[461.5, 17.0], [422.5, 218.5], [438.5, 419.0], [334.5, 11.95], [30.5, 234.0], [126.5, 2.5]] \n",
    "x_values,y_values = np.array(ac)[:,0],np.array(ac)[:,1]\n",
    "np.sqrt(np.diff(x_values)**2 + np.diff(y_values)**2),math.dist(ac[1],ac[2])\n",
    "ac=ac[::-1]\n",
    "x_values,y_values = np.array(ac)[:,0],np.array(ac)[:,1]\n",
    "new_list = [sum(np.sqrt(np.diff(x_values)**2 + np.diff(y_values)**2)[:i]) for i in range(len(np.sqrt(np.diff(x_values)**2 + np.diff(y_values)**2)) + 1)]\n",
    "new_list"
   ]
  },
  {
   "cell_type": "markdown",
   "metadata": {},
   "source": [
    "PREVIOUS STUDENT'S CURVE FIT MODEL"
   ]
  },
  {
   "cell_type": "code",
   "execution_count": 421,
   "metadata": {},
   "outputs": [
    {
     "name": "stdout",
     "output_type": "stream",
     "text": [
      "f = 20.0 , g = 0.0 , h = 7.0 , Q = 1.7885869047439589\n"
     ]
    }
   ],
   "source": [
    "import numpy as np\n",
    "from scipy.optimize import curve_fit\n",
    "import matplotlib.pyplot as plt\n",
    "import sympy as sym\n",
    "from itertools import product\n",
    "coords=[[46.5, 18.0], [42.5, 18.5], [38.5, 19.0], [34.5, 19.5], [30.5, 20.0], [26.5, 20.5]] \n",
    "C = np.array([0.0011108741723468401, 0.0011823378868119714, 0.0012361214279843072, 0.0012658992872256142, 0.001283704410993905, 0.0012507918336789668])\n",
    "v = np.array([-46.5, 42.5, 38.5, 34.5, 30.5, 26.5])\n",
    "w = np.array([18.0, 18.5, 19.0, 19.5, 20.0, 20.5])\n",
    "windspeed = np.zeros(np.size(v))+3\n",
    "y = np.zeros(np.size(v))\n",
    "stability =np.zeros(np.size(v))+4\n",
    "x = v, w, y, windspeed, stability\n",
    "\n",
    "def func(data, f, g, h, Q):\n",
    "    v, w, y, windspeed, stability = data\n",
    "    stability=stability[0]\n",
    "    stability_values= {1 : (122.8,0.94470,24.1670,2.5334),\n",
    "                2: (90.673, 0.93198, 18.3330, 1.8096),\n",
    "                3: (61.141, 0.91465, 12.5, 1.0857),\n",
    "                4: (34.459, 0.86974, 8.3330, 0.72382),\n",
    "                5: (24.26, 0.83660, 6.25, 0.54287),\n",
    "                6: (15.209, 0.81558, 4.1667, 0.36191)\n",
    "                }\n",
    "    P_a,P_b,P_c,P_d=(stability_values[stability][0]),(stability_values[stability][1]),(stability_values[stability][2]),(stability_values[stability][3])\n",
    "    distance = np.sqrt((v - f)**2 + (w - g)**2)\n",
    "    theta = 0.017453293 * (P_c - P_d * np.log(distance/1000))\n",
    "    sigma_y = 465.11628 * (distance / 1000) * np.tan(theta)\n",
    "    sigma_z = P_a * (distance / 1000)**P_b\n",
    "    first_fracture = Q / (2 * np.pi * windspeed * sigma_y * sigma_z)\n",
    "    exp_arg_z1 = -(-h)**2 / (2 * sigma_z**2)\n",
    "    exp_arg_z2 = -(h)**2 / (2 * sigma_z**2)\n",
    "    exp_arg_y = -(y)**2 / (2 * sigma_y**2)\n",
    "    eq = first_fracture * (np.exp(exp_arg_z1) + np.exp(exp_arg_z2)) * np.exp(exp_arg_y)\n",
    "\n",
    "    return eq\n",
    "\n",
    "solution = [0, 0, 0, 0]\n",
    "best_guess = 100000\n",
    "\n",
    "for f, g, h, q in product(range(0,21), range(0,2), range(8), range(2)):\n",
    "    p0 = [f, g, h, q]\n",
    "    guess, _ = curve_fit(func, x, C, p0, maxfev=100000, method='dogbox')\n",
    "    new_guess = sum(abs(p - opt) for p, opt in zip(p0, guess))\n",
    "    if new_guess < best_guess:\n",
    "        best_guess, solution = new_guess, guess\n",
    "\n",
    "print('f =', solution[0], ',', 'g =', solution[1], ',', 'h =', solution[2], ',', 'Q =', solution[3])\n"
   ]
  },
  {
   "cell_type": "markdown",
   "metadata": {},
   "source": [
    "SYNTHETIC DATA GENERATION FOR LDA MODEL"
   ]
  },
  {
   "cell_type": "code",
   "execution_count": 422,
   "metadata": {},
   "outputs": [
    {
     "name": "stderr",
     "output_type": "stream",
     "text": [
      "C:\\Users\\danin\\AppData\\Local\\Temp\\ipykernel_11316\\4269558857.py:55: RuntimeWarning: invalid value encountered in divide\n",
      "  subtended=np.arccos(dot_product/(magnitudes))\n"
     ]
    },
    {
     "ename": "KeyboardInterrupt",
     "evalue": "",
     "output_type": "error",
     "traceback": [
      "\u001b[1;31m---------------------------------------------------------------------------\u001b[0m",
      "\u001b[1;31mKeyboardInterrupt\u001b[0m                         Traceback (most recent call last)",
      "Cell \u001b[1;32mIn[422], line 60\u001b[0m\n\u001b[0;32m     58\u001b[0m downwind\u001b[38;5;241m=\u001b[39mnp\u001b[38;5;241m.\u001b[39mcos(subtended)\u001b[38;5;241m*\u001b[39mhypotenuse\n\u001b[0;32m     59\u001b[0m \u001b[38;5;66;03m#Turns It Into Complex Format To Make Correct Calculations Later On.\u001b[39;00m\n\u001b[1;32m---> 60\u001b[0m downwindimag\u001b[38;5;241m=\u001b[39mnp\u001b[38;5;241m.\u001b[39mvectorize(\u001b[38;5;28mcomplex\u001b[39m)(downwind\u001b[38;5;241m.\u001b[39mreal, downwind\u001b[38;5;241m.\u001b[39mimag)\n\u001b[0;32m     62\u001b[0m \u001b[38;5;66;03m#PASQUILL CONSTANTS & SIGMA CALCULATION\u001b[39;00m\n\u001b[0;32m     63\u001b[0m \n\u001b[0;32m     64\u001b[0m \u001b[38;5;66;03m#Pasquill Constants Found In Resources\u001b[39;00m\n\u001b[0;32m     65\u001b[0m stability_class\u001b[38;5;241m=\u001b[39m {\u001b[38;5;241m1\u001b[39m : (\u001b[38;5;241m122.8\u001b[39m,\u001b[38;5;241m0.94470\u001b[39m,\u001b[38;5;241m24.1670\u001b[39m,\u001b[38;5;241m2.5334\u001b[39m),\n\u001b[0;32m     66\u001b[0m                 \u001b[38;5;241m2\u001b[39m: (\u001b[38;5;241m90.673\u001b[39m, \u001b[38;5;241m0.93198\u001b[39m, \u001b[38;5;241m18.3330\u001b[39m, \u001b[38;5;241m1.8096\u001b[39m),\n\u001b[0;32m     67\u001b[0m                 \u001b[38;5;241m3\u001b[39m: (\u001b[38;5;241m61.141\u001b[39m, \u001b[38;5;241m0.91465\u001b[39m, \u001b[38;5;241m12.5\u001b[39m, \u001b[38;5;241m1.0857\u001b[39m),\n\u001b[1;32m   (...)\u001b[0m\n\u001b[0;32m     70\u001b[0m                 \u001b[38;5;241m6\u001b[39m: (\u001b[38;5;241m15.209\u001b[39m, \u001b[38;5;241m0.81558\u001b[39m, \u001b[38;5;241m4.1667\u001b[39m, \u001b[38;5;241m0.36191\u001b[39m)\n\u001b[0;32m     71\u001b[0m                 }\n",
      "\u001b[1;31mKeyboardInterrupt\u001b[0m: "
     ]
    }
   ],
   "source": [
    "from scipy.ndimage import rotate, shift\n",
    "import numpy as np\n",
    "import matplotlib.pyplot as plt\n",
    "from mpl_toolkits.mplot3d import Axes3D\n",
    "import matplotlib as mpl\n",
    "from sklearn.linear_model import LinearRegression\n",
    "import scipy.stats as sp\n",
    "import pandas as pd\n",
    "import statsmodels.api as sm\n",
    "import math\n",
    "import cmath\n",
    "import seaborn as sns\n",
    "from sympy import symbols, solve, Eq\n",
    "\n",
    "DataDict= {'Crosswind':[],'Distance On Centerline':[],'Negative Gradient':[],'Positive Gradient':[],'Stability Class':[]}\n",
    "\n",
    "np.random.seed(42)\n",
    "for Stability_Iteration in range(6,7):\n",
    "    for Iteration in range(119):\n",
    "        #INPUT FOR GAS PLUME\n",
    "        #set from 1-6\n",
    "        stability = Stability_Iteration                                                                                    \n",
    "        #Origin Coordinates Of Plume\n",
    "        angle= np.random.uniform(0, 2 * np.pi)\n",
    "        stack_x = 0#np.random.uniform(0, 51) * np.cos(angle)\n",
    "        stack_y = -50#np.random.uniform(0, 51) * np.sin(angle)\n",
    "        stack_height = np.random.randint(1,11) \n",
    "        emission_rate = np.random.randint(10,21)                                                                 \n",
    "        windspeed= np.random.randint(1,26)\n",
    "        #Wind Angle In Degrees\n",
    "        wind_direction= np.pi #np.random.uniform(0, 2*np.pi - 1e-5)\n",
    "\n",
    "        #INPUT FOR ALGORITHM\n",
    "\n",
    "        #GRID & STEPSIZE CALCULATION \n",
    "\n",
    "        x_range=np.arange(-100,101,0.5)\n",
    "        y_range=np.arange(-100,101,0.5)\n",
    "        z_range=np.arange(0,51,0.5)\n",
    "        #It Turns Each Into 3D-Arrays For Calculations In All 3 Axis\n",
    "        X,Y,Z = np.meshgrid(x_range,y_range,z_range)\n",
    "\n",
    "        #WIND RELATED CALCULATIONS\n",
    "\n",
    "        #For Future (height_slice_direction= math.atan2(measured_y - stack_y, measured_x - stack_x) *(180/(math.pi)))\n",
    "        #3D-Arrays For Distance Between Coordinate & Origin\n",
    "        x_origin=X-stack_x\n",
    "        y_origin=Y-stack_y\n",
    "\n",
    "        wind_xcomponent=windspeed*math.sin(wind_direction-np.pi)\n",
    "        wind_ycomponent=windspeed*math.cos(wind_direction-np.pi)\n",
    "\n",
    "        dot_product=wind_xcomponent*x_origin+wind_ycomponent*y_origin\n",
    "        magnitudes= windspeed*((x_origin**2)+(y_origin**2))**0.5\n",
    "        subtended=np.arccos(dot_product/(magnitudes))\n",
    "        hypotenuse=((x_origin**2)+(y_origin**2))**0.5\n",
    "        #Downwind Is X Of Gaussian Plume Formula \n",
    "        downwind=np.cos(subtended)*hypotenuse\n",
    "        #Turns It Into Complex Format To Make Correct Calculations Later On.\n",
    "        downwindimag=np.vectorize(complex)(downwind.real, downwind.imag)\n",
    "\n",
    "        #PASQUILL CONSTANTS & SIGMA CALCULATION\n",
    "\n",
    "        #Pasquill Constants Found In Resources\n",
    "        stability_class= {1 : (122.8,0.94470,24.1670,2.5334),\n",
    "                        2: (90.673, 0.93198, 18.3330, 1.8096),\n",
    "                        3: (61.141, 0.91465, 12.5, 1.0857),\n",
    "                        4: (34.459, 0.86974, 8.3330, 0.72382),\n",
    "                        5: (24.26, 0.83660, 6.25, 0.54287),\n",
    "                        6: (15.209, 0.81558, 4.1667, 0.36191)\n",
    "                        }\n",
    "        P_a=stability_class[stability][0] \n",
    "        P_b=stability_class[stability][1]\n",
    "        P_c=stability_class[stability][2]\n",
    "        P_d=stability_class[stability][3]\n",
    "        sig_z = P_a*(abs((downwind/1000))**P_b)\n",
    "        sig_z[sig_z > 5000] = 5000\n",
    "        theta=0.017453293*(P_c-P_d*np.log((downwindimag/1000)))\n",
    "        sig_y=(465.11628*downwind/1000)*np.tan(theta)\n",
    "\n",
    "        #CROSSWIND AND GAUSSIAN FORMULA\n",
    "\n",
    "        crosswind=np.sin(subtended)*hypotenuse\n",
    "        indix,indiy,indiz=np.where((downwind > 0))\n",
    "        Concentration= np.zeros(np.shape(downwind))\n",
    "        Concentration[indix,indiy,indiz] =((emission_rate/(2*math.pi*windspeed*sig_y[indix,indiy,indiz]*sig_z[indix,indiy,indiz]))*(math.e**(-crosswind[indix,indiy,indiz]**2/(2*sig_y[indix,indiy,indiz]**2))* (math.e**(-(Z[indix,indiy,indiz]-stack_height)**2/(2*sig_z[indix,indiy,indiz]**2))+ math.e**(-(Z[indix,indiy,indiz]+stack_height)**2/(2*sig_z[indix,indiy,indiz]**2)))))\n",
    "        #Prevents Issues Regarding Algorithm And Measurements\n",
    "        Concentration2D=(Concentration[:,:, 0])\n",
    "        Concentration[Concentration < 3e-5] = 0\n",
    "\n",
    "        Concentration_At_MeasurementForX= []\n",
    "        Concentration_At_MeasurementForY= []\n",
    "        Measurement_Points=[] \n",
    "        Measurement_Points_Y=[]\n",
    "\n",
    "        rand_sim_step2=np.random.uniform(-50,100)\n",
    "        \n",
    "        for i in range(-100+np.random.randint(0,10),101,5):\n",
    "            Measurement_Points_Y.append([i,rand_sim_step2])\n",
    "        for XYCoordinate in Measurement_Points_Y:\n",
    "            Concentration_At_MeasurementForY.append(Concentration2D[(200+ round(XYCoordinate[1]*2)),(200+ round(XYCoordinate[0]*2))])\n",
    "        while len(np.array(Concentration_At_MeasurementForY)[np.where(np.array(Concentration_At_MeasurementForY) > 0)]) < 2:\n",
    "            rand_sim_step2=np.random.uniform(-50,100)\n",
    "            Concentration_At_MeasurementForY=[]\n",
    "            for i in range(-100+np.random.randint(0,10),101,5):\n",
    "                Measurement_Points_Y.append([i,rand_sim_step2])\n",
    "            for XYCoordinate in Measurement_Points_Y:\n",
    "                Concentration_At_MeasurementForY.append(Concentration2D[(200+ round(XYCoordinate[1]*2)),(200+ round(XYCoordinate[0]*2))])\n",
    "        Concentration_At_MeasurementForY=[]\n",
    "\n",
    "        for i in range(-100,101,4):\n",
    "            Measurement_Points.append([0,i])\n",
    "        for i in range(-100+np.random.randint(0,10),101,5):\n",
    "            Measurement_Points_Y.append([i,rand_sim_step2])\n",
    "        Concentration_At_MeasurementForX=[]\n",
    "        for XYCoordinate in Measurement_Points:\n",
    "            Concentration_At_MeasurementForX.append(Concentration2D[(200+ round(XYCoordinate[1]*2)),(200+ round(XYCoordinate[0]*2))])\n",
    "\n",
    "        for XYCoordinate in Measurement_Points_Y:\n",
    "            Concentration_At_MeasurementForY.append(Concentration2D[(200+ round(XYCoordinate[1]*2)),(200+ round(XYCoordinate[0]*2))])\n",
    "       \n",
    "        max_c_ind=Concentration_At_MeasurementForX.index(max(Concentration_At_MeasurementForX))\n",
    "        Crosswind=(np.array(Measurement_Points_Y)[np.where(np.array(Concentration_At_MeasurementForY) > 0)][-1]-np.array(Measurement_Points_Y)[np.where(np.array(Concentration_At_MeasurementForY) > 0)][0])[0]\n",
    "        dist_cent=abs(Measurement_Points[max_c_ind][1]-rand_sim_step2)\n",
    "        \n",
    "        if max_c_ind+1 == len(Concentration_At_MeasurementForX):\n",
    "            val=np.array(Concentration_At_MeasurementForX)[[max_c_ind-2,max_c_ind-1,max_c_ind]],[item[1] for item in np.array(Measurement_Points)[[max_c_ind-2,max_c_ind-1,max_c_ind]]]\n",
    "            pos_grad,neg_grad=(val[0][1]-val[0][0])/(val[1][1]-val[1][0]),(val[0][2]-val[0][1])/(val[1][2]-val[1][1])\n",
    "        elif max_c_ind+1 != len(Concentration_At_MeasurementForX):\n",
    "            val=np.array(Concentration_At_MeasurementForX)[[max_c_ind-1,max_c_ind,max_c_ind+1]],[item[1] for item in np.array(Measurement_Points)[[max_c_ind-1,max_c_ind,max_c_ind+1]]]\n",
    "            pos_grad,neg_grad=(val[0][1]-val[0][0])/(val[1][1]-val[1][0]),(val[0][2]-val[0][1])/(val[1][2]-val[1][1])\n",
    "        else:\n",
    "            print('error')\n",
    "            print(max_c_ind,len(Measurement_Points),len(Concentration_At_MeasurementForX))\n",
    "            break\n",
    "        \n",
    "        DataDict['Crosswind'].append(Crosswind)\n",
    "        DataDict['Distance On Centerline'].append(dist_cent)\n",
    "        DataDict['Negative Gradient'].append(neg_grad)\n",
    "        DataDict['Positive Gradient'].append(pos_grad)\n",
    "        DataDict['Stability Class'].append(Stability_Iteration)"
   ]
  },
  {
   "cell_type": "markdown",
   "metadata": {},
   "source": [
    "EXPIREMENTING WITH ROTATION"
   ]
  },
  {
   "cell_type": "code",
   "execution_count": null,
   "metadata": {},
   "outputs": [
    {
     "name": "stdout",
     "output_type": "stream",
     "text": [
      "[0, -1] [0, 1] [0, 2]\n"
     ]
    },
    {
     "data": {
      "image/png": "[encoded data removed]",
      "text/plain": [
       "<Figure size 640x480 with 1 Axes>"
      ]
     },
     "metadata": {},
     "output_type": "display_data"
    }
   ],
   "source": [
    "theta=np.pi/3\n",
    "a=np.array([[math.cos(theta), -math.sin(theta)],[math.sin(theta), math.cos(theta)]]) @ [0, -1]\n",
    "b=np.array([[math.cos(theta), -math.sin(theta)],[math.sin(theta), math.cos(theta)]]) @[0,1]\n",
    "c=np.array([[math.cos(theta), -math.sin(theta)],[math.sin(theta), math.cos(theta)]]) @ [0, 2]\n",
    "\n",
    "theta=-np.pi/3\n",
    "a=np.array([[math.cos(theta), -math.sin(theta)],[math.sin(theta), math.cos(theta)]]) @ a\n",
    "b=np.array([[math.cos(theta), -math.sin(theta)],[math.sin(theta), math.cos(theta)]]) @b\n",
    "c=np.array([[math.cos(theta), -math.sin(theta)],[math.sin(theta), math.cos(theta)]]) @ c\n",
    "\n",
    "plt.scatter([round(a[0],2),round(b[0],2),round(c[0],2)],[round(a[1],2),round(b[1],2),round(c[1],2)])\n",
    "print([0, -1],[0,1], [0, 2])"
   ]
  },
  {
   "cell_type": "markdown",
   "metadata": {},
   "source": [
    "LDA MODELLING"
   ]
  },
  {
   "cell_type": "code",
   "execution_count": 27,
   "metadata": {},
   "outputs": [
    {
     "ename": "NameError",
     "evalue": "name 'x_range' is not defined",
     "output_type": "error",
     "traceback": [
      "\u001b[1;31m---------------------------------------------------------------------------\u001b[0m",
      "\u001b[1;31mNameError\u001b[0m                                 Traceback (most recent call last)",
      "Cell \u001b[1;32mIn[27], line 3\u001b[0m\n\u001b[0;32m      1\u001b[0m \u001b[38;5;28;01mfrom\u001b[39;00m \u001b[38;5;21;01msklearn\u001b[39;00m\u001b[38;5;21;01m.\u001b[39;00m\u001b[38;5;21;01mdiscriminant_analysis\u001b[39;00m \u001b[38;5;28;01mimport\u001b[39;00m LinearDiscriminantAnalysis\n\u001b[1;32m----> 3\u001b[0m plt\u001b[38;5;241m.\u001b[39mpcolor(x_range, y_range, Concentration2D, shading\u001b[38;5;241m=\u001b[39m\u001b[38;5;28;01mNone\u001b[39;00m, cmap\u001b[38;5;241m=\u001b[39m\u001b[38;5;124m'\u001b[39m\u001b[38;5;124mjet\u001b[39m\u001b[38;5;124m'\u001b[39m)\n\u001b[0;32m      4\u001b[0m \u001b[38;5;28mlen\u001b[39m(Measurement_Points),\u001b[38;5;28mlen\u001b[39m(Concentration_At_MeasurementForX)\n\u001b[0;32m      5\u001b[0m Datadict1\u001b[38;5;241m=\u001b[39mpd\u001b[38;5;241m.\u001b[39mDataFrame(DataDict)\n",
      "\u001b[1;31mNameError\u001b[0m: name 'x_range' is not defined"
     ]
    }
   ],
   "source": [
    "\n",
    "from sklearn.discriminant_analysis import LinearDiscriminantAnalysis\n",
    "\n",
    "plt.pcolor(x_range, y_range, Concentration2D, shading=None, cmap='jet')\n",
    "len(Measurement_Points),len(Concentration_At_MeasurementForX)\n",
    "Datadict1=pd.DataFrame(DataDict)\n",
    "x_cols = ['Crosswind', 'Distance On Centerline', 'Negative Gradient','Positive Gradient']\n",
    "model = LinearDiscriminantAnalysis(solver='lsqr').fit(Datadict1[x_cols], Datadict1['Stability Class'])\n",
    "variables=pd.DataFrame([[2,2,2,2]], columns=x_cols)\n",
    "result= model.predict(variables)\n",
    "Datadict1.to_excel('Large_LDA_Data.xlsx')"
   ]
  },
  {
   "cell_type": "code",
   "execution_count": null,
   "metadata": {},
   "outputs": [],
   "source": [
    "Crosswind=(np.array(Measurement_Points_Y)[np.where(np.array(Concentration_At_MeasurementForY) > 3e-5)][-1]-np.array(Measurement_Points_Y)[np.where(np.array(Concentration_At_MeasurementForY) > 3e-5)][0])[0]\n",
    "abs(Measurement_Points[Concentration_At_MeasurementForX.index(max(Concentration_At_MeasurementForX))][1]-rand_sim_step2)\n",
    "from sklearn.discriminant_analysis import LinearDiscriminantAnalysis\n",
    "LDA_Data=pd.read_excel('LDA_Data.xlsx')\n",
    "x_cols = ['Crosswind', 'Distance On Centerline', 'Negative Gradient','Positive Gradient']\n",
    "model = LinearDiscriminantAnalysis(solver='lsqr').fit(LDA_Data[x_cols], LDA_Data['Stability Class'])\n",
    "variables=pd.DataFrame([[2,2,2,2]], columns=x_cols)\n",
    "result= model.predict(variables)"
   ]
  },
  {
   "cell_type": "markdown",
   "metadata": {},
   "source": [
    "WEIBULL FITTING"
   ]
  },
  {
   "cell_type": "code",
   "execution_count": null,
   "metadata": {},
   "outputs": [
    {
     "data": {
      "image/png": "[encoded data removed]",
      "text/plain": [
       "<Figure size 640x480 with 1 Axes>"
      ]
     },
     "metadata": {},
     "output_type": "display_data"
    },
    {
     "name": "stdout",
     "output_type": "stream",
     "text": [
      "Fitted Weibull Parameter:\n",
      "Scale parameter (lambda): 252.44996040377023\n"
     ]
    },
    {
     "data": {
      "text/html": [
       "<div>\n",
       "<style scoped>\n",
       "    .dataframe tbody tr th:only-of-type {\n",
       "        vertical-align: middle;\n",
       "    }\n",
       "\n",
       "    .dataframe tbody tr th {\n",
       "        vertical-align: top;\n",
       "    }\n",
       "\n",
       "    .dataframe thead th {\n",
       "        text-align: right;\n",
       "    }\n",
       "</style>\n",
       "<table border=\"1\" class=\"dataframe\">\n",
       "  <thead>\n",
       "    <tr style=\"text-align: right;\">\n",
       "      <th></th>\n",
       "      <th>Crosswind</th>\n",
       "      <th>Distance On Centerline</th>\n",
       "      <th>Negative Gradient</th>\n",
       "      <th>Positive Gradient</th>\n",
       "      <th>Stability Class</th>\n",
       "    </tr>\n",
       "  </thead>\n",
       "  <tbody>\n",
       "    <tr>\n",
       "      <th>0</th>\n",
       "      <td>106.0</td>\n",
       "      <td>28.874913</td>\n",
       "      <td>3.033889e-05</td>\n",
       "      <td>0.000088</td>\n",
       "      <td>1</td>\n",
       "    </tr>\n",
       "    <tr>\n",
       "      <th>1</th>\n",
       "      <td>171.0</td>\n",
       "      <td>70.299816</td>\n",
       "      <td>8.596018e-05</td>\n",
       "      <td>0.000250</td>\n",
       "      <td>1</td>\n",
       "    </tr>\n",
       "    <tr>\n",
       "      <th>2</th>\n",
       "      <td>122.0</td>\n",
       "      <td>69.747974</td>\n",
       "      <td>1.285196e-04</td>\n",
       "      <td>0.000336</td>\n",
       "      <td>1</td>\n",
       "    </tr>\n",
       "    <tr>\n",
       "      <th>3</th>\n",
       "      <td>104.0</td>\n",
       "      <td>27.135166</td>\n",
       "      <td>2.505811e-06</td>\n",
       "      <td>0.000012</td>\n",
       "      <td>1</td>\n",
       "    </tr>\n",
       "    <tr>\n",
       "      <th>4</th>\n",
       "      <td>178.0</td>\n",
       "      <td>107.330263</td>\n",
       "      <td>2.423083e-05</td>\n",
       "      <td>0.000098</td>\n",
       "      <td>1</td>\n",
       "    </tr>\n",
       "    <tr>\n",
       "      <th>...</th>\n",
       "      <td>...</td>\n",
       "      <td>...</td>\n",
       "      <td>...</td>\n",
       "      <td>...</td>\n",
       "      <td>...</td>\n",
       "    </tr>\n",
       "    <tr>\n",
       "      <th>603</th>\n",
       "      <td>43.0</td>\n",
       "      <td>45.288213</td>\n",
       "      <td>3.132505e-07</td>\n",
       "      <td>0.000002</td>\n",
       "      <td>4</td>\n",
       "    </tr>\n",
       "    <tr>\n",
       "      <th>604</th>\n",
       "      <td>25.0</td>\n",
       "      <td>33.856643</td>\n",
       "      <td>3.299204e-07</td>\n",
       "      <td>0.000005</td>\n",
       "      <td>4</td>\n",
       "    </tr>\n",
       "    <tr>\n",
       "      <th>605</th>\n",
       "      <td>22.0</td>\n",
       "      <td>65.817763</td>\n",
       "      <td>4.072044e-06</td>\n",
       "      <td>0.000010</td>\n",
       "      <td>4</td>\n",
       "    </tr>\n",
       "    <tr>\n",
       "      <th>606</th>\n",
       "      <td>15.0</td>\n",
       "      <td>16.268471</td>\n",
       "      <td>8.769621e-02</td>\n",
       "      <td>0.060777</td>\n",
       "      <td>4</td>\n",
       "    </tr>\n",
       "    <tr>\n",
       "      <th>607</th>\n",
       "      <td>13.0</td>\n",
       "      <td>32.549657</td>\n",
       "      <td>1.281481e-05</td>\n",
       "      <td>0.000031</td>\n",
       "      <td>4</td>\n",
       "    </tr>\n",
       "  </tbody>\n",
       "</table>\n",
       "<p>608 rows × 5 columns</p>\n",
       "</div>"
      ],
      "text/plain": [
       "     Crosswind  Distance On Centerline  Negative Gradient  Positive Gradient  \\\n",
       "0        106.0               28.874913       3.033889e-05           0.000088   \n",
       "1        171.0               70.299816       8.596018e-05           0.000250   \n",
       "2        122.0               69.747974       1.285196e-04           0.000336   \n",
       "3        104.0               27.135166       2.505811e-06           0.000012   \n",
       "4        178.0              107.330263       2.423083e-05           0.000098   \n",
       "..         ...                     ...                ...                ...   \n",
       "603       43.0               45.288213       3.132505e-07           0.000002   \n",
       "604       25.0               33.856643       3.299204e-07           0.000005   \n",
       "605       22.0               65.817763       4.072044e-06           0.000010   \n",
       "606       15.0               16.268471       8.769621e-02           0.060777   \n",
       "607       13.0               32.549657       1.281481e-05           0.000031   \n",
       "\n",
       "     Stability Class  \n",
       "0                  1  \n",
       "1                  1  \n",
       "2                  1  \n",
       "3                  1  \n",
       "4                  1  \n",
       "..               ...  \n",
       "603                4  \n",
       "604                4  \n",
       "605                4  \n",
       "606                4  \n",
       "607                4  \n",
       "\n",
       "[608 rows x 5 columns]"
      ]
     },
     "execution_count": 351,
     "metadata": {},
     "output_type": "execute_result"
    }
   ],
   "source": [
    "import numpy as np\n",
    "from scipy.optimize import curve_fit\n",
    "import matplotlib.pyplot as plt\n",
    "\n",
    "# Your data\n",
    "x = np.array([item[1] for item in Measurement_Points]) + 100\n",
    "y = np.array(Concentration_At_MeasurementForX) * 10\n",
    "\n",
    "k = 2  # Shape parameter known\n",
    "\n",
    "# Define the Weibull PDF function\n",
    "def weibull_pdf(x, scale):\n",
    "    if isinstance(x, (int, float)):\n",
    "        x = np.array([x])\n",
    "    \n",
    "    y = (k / scale) * (x / scale)**(k - 1) * np.exp(-(x / scale)**k)\n",
    "    \n",
    "    return y\n",
    "# Fit the Weibull distribution to the PDF of the data\n",
    "params, covariance = curve_fit(weibull_pdf, x, y, p0=[111])  # Initial guess for the scale parameter\n",
    "\n",
    "# Extract the fitted parameters\n",
    "scale = params[0]\n",
    "\n",
    "# Plot the original data\n",
    "plt.scatter(x, y, label='Original Data')\n",
    "\n",
    "# Plot the fitted Weibull distribution PDF\n",
    "x_fit = np.linspace(min(x), max(x), 1000)\n",
    "y_fit = weibull_pdf(x_fit, scale)\n",
    "#plt.plot(x_fit, y_fit, label='Fitted Weibull Distribution PDF', color='red')\n",
    "\n",
    "plt.legend()\n",
    "plt.show()\n",
    "\n",
    "print(\"Fitted Weibull Parameter:\")\n",
    "print(f\"Scale parameter (lambda): {scale}\")"
   ]
  },
  {
   "cell_type": "markdown",
   "metadata": {},
   "source": [
    "CURVE-FIT BY ITSELF"
   ]
  },
  {
   "cell_type": "code",
   "execution_count": null,
   "metadata": {},
   "outputs": [
    {
     "name": "stderr",
     "output_type": "stream",
     "text": [
      "C:\\Users\\danin\\AppData\\Local\\Temp\\ipykernel_22116\\2807810455.py:30: RuntimeWarning: divide by zero encountered in log\n",
      "  theta = np.radians(c - d * np.log(x / 1000))\n",
      "C:\\Users\\danin\\AppData\\Local\\Temp\\ipykernel_22116\\2807810455.py:31: RuntimeWarning: invalid value encountered in tan\n",
      "  sy = 465.11628 * (x / 1000) * np.tan(theta)\n",
      "C:\\Users\\danin\\AppData\\Local\\Temp\\ipykernel_22116\\2807810455.py:35: RuntimeWarning: divide by zero encountered in divide\n",
      "  np.exp(- (z_or - h) ** 2 / (2 * sz ** 2)) +\n",
      "C:\\Users\\danin\\AppData\\Local\\Temp\\ipykernel_22116\\2807810455.py:36: RuntimeWarning: divide by zero encountered in divide\n",
      "  np.exp(- (z_or + h) ** 2 / (2 * sz ** 2))\n"
     ]
    },
    {
     "data": {
      "image/png": "[encoded data removed]",
      "text/plain": [
       "<Figure size 640x480 with 1 Axes>"
      ]
     },
     "metadata": {},
     "output_type": "display_data"
    },
    {
     "data": {
      "image/png": "[encoded data removed]",
      "text/plain": [
       "<Figure size 640x480 with 1 Axes>"
      ]
     },
     "metadata": {},
     "output_type": "display_data"
    },
    {
     "name": "stdout",
     "output_type": "stream",
     "text": [
      "Fitted Parameters: [ 10.00032306 -26.00101331  13.0002225 ]\n"
     ]
    },
    {
     "data": {
      "text/plain": [
       "0.0007266452951534658"
      ]
     },
     "execution_count": 24,
     "metadata": {},
     "output_type": "execute_result"
    }
   ],
   "source": [
    "import numpy as np\n",
    "import matplotlib.pyplot as plt\n",
    "from scipy.optimize import curve_fit\n",
    "\n",
    "stability=2\n",
    "\n",
    "stability_values= {1 : (122.8,0.94470,24.1670,2.5334),\n",
    "                2: (90.673, 0.93198, 18.3330, 1.8096),\n",
    "                3: (61.141, 0.91465, 12.5, 1.0857),\n",
    "                4: (34.459, 0.86974, 8.3330, 0.72382),\n",
    "                5: (24.26, 0.83660, 6.25, 0.54287),\n",
    "                6: (15.209, 0.81558, 4.1667, 0.36191)\n",
    "                }\n",
    "P_a,P_b,P_c,P_d=(stability_values[stability][0]),(stability_values[stability][1]),(stability_values[stability][2]),(stability_values[stability][3])\n",
    "\n",
    "\n",
    "def cGP(x_or, Qu, x_leak, h):\n",
    "    y_or = 0\n",
    "    y_leak = 0\n",
    "    z_or = 0\n",
    "    \n",
    "    x = x_or - x_leak\n",
    "    y = y_or - y_leak\n",
    "\n",
    "    a = P_a\n",
    "    b = P_b\n",
    "    c = P_c\n",
    "    d = P_d\n",
    "\n",
    "    theta = np.radians(c - d * np.log(x / 1000))\n",
    "    sy = 465.11628 * (x / 1000) * np.tan(theta)\n",
    "    sz = np.minimum(a * (x / 1000) ** b, 5000)\n",
    "\n",
    "    c = (Qu / (2 * np.pi * sy * sz)) * (\n",
    "            np.exp(- (z_or - h) ** 2 / (2 * sz ** 2)) +\n",
    "            np.exp(- (z_or + h) ** 2 / (2 * sz ** 2))\n",
    "    ) * np.exp(-y ** 2 / (2 * sy ** 2))\n",
    "\n",
    "    return c\n",
    "\n",
    "# Synthetic data generation\n",
    "xMeas = np.linspace(1, 100, 8)\n",
    "b = np.array([10, -26, 13])\n",
    "cEx = cGP(xMeas, *b)\n",
    "\n",
    "rPert = 0.0\n",
    "np.random.seed(15)\n",
    "cPert = rPert * cEx * np.random.randn(len(cEx))\n",
    "cMeas = cEx + cPert\n",
    "\n",
    "# Plotting\n",
    "plt.plot(xMeas, cMeas, 'bo', label='Measured Data')\n",
    "xPlot = np.linspace(b[1], b[1] + 200, 1200)\n",
    "plt.plot(xPlot, cGP(xPlot, *b), 'r', label='True Concentration')\n",
    "plt.grid(True)\n",
    "\n",
    "# Optimization using curve_fit\n",
    "beta0 = [3.0, 0.3, 0.5]\n",
    "bounds=([0,-200,1],[21,0,21])\n",
    "beta_fit, covariance_matrix = curve_fit(cGP, xMeas, cMeas, method='trf',bounds=bounds,maxfev=100000)\n",
    "std_errors = np.sqrt(np.diag(covariance_matrix))\n",
    "# Plotting the fitted curve\n",
    "plt.plot(xPlot, cGP(xPlot, *beta_fit), 'b--', label='Fitted Concentration')\n",
    "plt.legend()\n",
    "plt.show()\n",
    "XPLOT=np.linspace(-10,100,100)\n",
    "plt.plot(XPLOT,cGP(XPLOT,*beta_fit))\n",
    "plt.scatter(xMeas,cMeas)\n",
    "plt.show()\n",
    "print(\"Fitted Parameters:\", beta_fit)\n",
    "sum(std_errors)"
   ]
  }
 ],
 "metadata": {
  "kernelspec": {
   "display_name": "base",
   "language": "python",
   "name": "python3"
  },
  "language_info": {
   "codemirror_mode": {
    "name": "ipython",
    "version": 3
   },
   "file_extension": ".py",
   "mimetype": "text/x-python",
   "name": "python",
   "nbconvert_exporter": "python",
   "pygments_lexer": "ipython3",
   "version": "3.11.5"
  },
  "orig_nbformat": 4
 },
 "nbformat": 4,
 "nbformat_minor": 2
}
